{
  "nbformat": 4,
  "nbformat_minor": 0,
  "metadata": {
    "colab": {
      "name": "algorithms.ipynb",
      "provenance": [],
      "toc_visible": true,
      "collapsed_sections": [
        "5rKUE9XClAWx",
        "Blw8TzunI2iz",
        "okdI1W7BDRyC",
        "V4gfY5zY9SN-",
        "0hs0HTRkDDld"
      ],
      "authorship_tag": "ABX9TyNR3QCNxE+6bBaCcUx0e0A4",
      "include_colab_link": true
    },
    "kernelspec": {
      "name": "python3",
      "display_name": "Python 3"
    },
    "language_info": {
      "name": "python"
    }
  },
  "cells": [
    {
      "cell_type": "markdown",
      "metadata": {
        "id": "view-in-github",
        "colab_type": "text"
      },
      "source": [
        "<a href=\"https://colab.research.google.com/github/vchoudhari45/cp-algorithms/blob/main/algorithms.ipynb\" target=\"_parent\"><img src=\"https://colab.research.google.com/assets/colab-badge.svg\" alt=\"Open In Colab\"/></a>"
      ]
    },
    {
      "cell_type": "code",
      "source": [
        "#@title Google Colab JDK Setup\n",
        "# Google Colab doesn't support writting and running java code\n",
        "# Below is a setup for installing default JDK\n",
        "\n",
        "# Run and print a shell command.\n",
        "def run(cmd):\n",
        "  print('>> {}'.format(cmd))\n",
        "  !{cmd}\n",
        "\n",
        "# Update and upgrade the system before installing anything else.\n",
        "run('apt-get update > /dev/null')\n",
        "run('apt-get upgrade > /dev/null')\n",
        "\n",
        "# Install the Java JDK.\n",
        "run('apt-get install default-jdk > /dev/null')\n",
        "\n",
        "# Check the Java version to see if everything is working well.\n",
        "run('javac -version')"
      ],
      "metadata": {
        "id": "wROvc6FUE5Wa",
        "cellView": "form",
        "colab": {
          "base_uri": "https://localhost:8080/"
        },
        "outputId": "682e0d64-1d92-4f2d-e04f-4edf9e290333"
      },
      "execution_count": 2,
      "outputs": [
        {
          "output_type": "stream",
          "name": "stdout",
          "text": [
            ">> apt-get update > /dev/null\n",
            ">> apt-get upgrade > /dev/null\n",
            "Extracting templates from packages: 100%\n",
            ">> apt-get install default-jdk > /dev/null\n",
            ">> javac -version\n",
            "javac 11.0.15\n"
          ]
        }
      ]
    },
    {
      "cell_type": "markdown",
      "source": [
        "\\\n",
        "\n",
        "# Matrix dot product\n",
        " It is sum of product of corresponding positions in the two matrices."
      ],
      "metadata": {
        "id": "5rKUE9XClAWx"
      }
    },
    {
      "cell_type": "markdown",
      "source": [
        "### How it works?\n",
        "\n",
        "Given two matrix $a$ and $b$ matrix dot product is calculated as \n",
        "\n",
        "$\\begin{bmatrix}\n",
        "a1 & a2 \\\\\n",
        "a3 & a4 \\\\\n",
        "\\end{bmatrix} . \n",
        "\\begin{bmatrix}\n",
        " b1 & b2\\\\\n",
        " b3 & b4\n",
        "\\end{bmatrix} = \\begin{bmatrix}\n",
        "(a1*b1 + a2*b3) & (a1*b2 + a2*b4) \\\\\n",
        "(a3*b1 + a4*b3) & (a3*b2 + a4*b4) \n",
        "\\end{bmatrix}$\n",
        "\n",
        "\\\n",
        "\n",
        "> **Caution** \\\n",
        "Number of columns in first matrix should be equal to number for rows in the second matrix."
      ],
      "metadata": {
        "id": "QOSA62iMlksl"
      }
    },
    {
      "cell_type": "code",
      "source": [
        "%%writefile MatrixArithmetic.java\n",
        "\n",
        "public class MatrixArithmetic {\n",
        "  \n",
        "  public static long[][] dot(long[][] a, long[][] b) {\n",
        "    long[][] res = new long[a.length][b[0].length];\n",
        "\n",
        "    for(int i = 0; i < a.length; i++) {\n",
        "      for(int k = 0; k < a[0].length; k++) {\n",
        "        for(int j = 0; j < b[0].length; j++) {\n",
        "          res[i][j] += a[i][k] * b[k][j];\n",
        "        }\n",
        "      }\n",
        "    }\n",
        "    return res;\n",
        "  }\n",
        "\n",
        "  public static void print(long[][] a) {\n",
        "    System.out.println(\"========================================================\");\n",
        "    for(int i = 0; i < a.length; i++) {\n",
        "      for(int j = 0; j < a[0].length; j++) {\n",
        "        System.out.format(\"%5d\", a[i][j]);\n",
        "      }\n",
        "      System.out.println();\n",
        "    }\n",
        "    System.out.println(\"========================================================\");\n",
        "  }\n",
        "\n",
        "  public static void main(String args[]) {\n",
        "    long[][] a = new long[][]{\n",
        "      {1, 2, 3},\n",
        "      {4, 5, 6}\n",
        "    };\n",
        "\n",
        "    long[][] b = new long[][]{\n",
        "      {1, 2},\n",
        "      {3, 4},\n",
        "      {5, 6}\n",
        "    };\n",
        "    System.out.println(\"Input matrix a: \");\n",
        "    print(a);\n",
        "\n",
        "    System.out.println(\"Input matrix b: \");\n",
        "    print(b);\n",
        "\n",
        "    System.out.println(\"Matrix dot product a . b: \");\n",
        "    print(dot(a, b));\n",
        "  }\n",
        "\n",
        "}"
      ],
      "metadata": {
        "id": "ApTOO6X9nkE8",
        "colab": {
          "base_uri": "https://localhost:8080/"
        },
        "outputId": "9da53b8c-5322-4d71-dede-a1ef64f1a9e5"
      },
      "execution_count": 3,
      "outputs": [
        {
          "output_type": "stream",
          "name": "stdout",
          "text": [
            "Writing MatrixArithmetic.java\n"
          ]
        }
      ]
    },
    {
      "cell_type": "code",
      "source": [
        "# Compiling MatrixArithmetic class\n",
        "run('javac MatrixArithmetic.java')\n",
        "\n",
        "# Running MatrixArithmetic class\n",
        "run('java MatrixArithmetic')"
      ],
      "metadata": {
        "colab": {
          "base_uri": "https://localhost:8080/"
        },
        "id": "neszfDapr0Jd",
        "outputId": "689209fe-a9a8-479d-c962-c825d534de9e"
      },
      "execution_count": 4,
      "outputs": [
        {
          "output_type": "stream",
          "name": "stdout",
          "text": [
            ">> javac MatrixArithmetic.java\n",
            ">> java MatrixArithmetic\n",
            "Input matrix a: \n",
            "========================================================\n",
            "    1    2    3\n",
            "    4    5    6\n",
            "========================================================\n",
            "Input matrix b: \n",
            "========================================================\n",
            "    1    2\n",
            "    3    4\n",
            "    5    6\n",
            "========================================================\n",
            "Matrix dot product a . b: \n",
            "========================================================\n",
            "   22   28\n",
            "   49   64\n",
            "========================================================\n"
          ]
        }
      ]
    },
    {
      "cell_type": "markdown",
      "source": [
        "\\\n",
        "\n",
        "\n",
        "\\\n",
        "\n",
        "# Binary Exponentiation\n",
        "\n",
        "It is technique to calculate power of $a^{n}$ in $O(\\log n)$ time instead of multiplying $a$ with itself $n$ times."
      ],
      "metadata": {
        "id": "Cjbj0F1DZ97K"
      }
    },
    {
      "cell_type": "markdown",
      "source": [
        "### How it works?\n",
        "\n",
        "Let's say we want to calculate $3^{13}$\n",
        "\n",
        "We know $a^{(b+c)} = a^{b} + a^{c}$ so using the same logic we can say $3^{13} = 3^{8} + 3^{4} + 3^{1}$\n",
        "\n",
        "But question is how did we split $13$ into $(8 + 4 + 1)$, and answer is using binary representation of $13$ as below\n",
        "\n",
        "> $13 = 1101$ (In Binary) \\\n",
        "$13 = 2^{1}$(As index $0$ going from right to left in binary repr. of $13$ is $1$) + \\\n",
        "$13 = 2^{2}$(As index $2$ going from right to left in binary repr. of $13$ is $1$) + \\\n",
        "$13 = 2^{3}$(As index $3$ going from right to left in binary repr. of $13$ is $1$)\\\n",
        "$13 = 2^{0} + 2^{2} + 2^{3}$ \\\n",
        "$13 = 1 + 4 + 8$"
      ],
      "metadata": {
        "id": "ye0vg43hamfU"
      }
    },
    {
      "cell_type": "code",
      "source": [
        "%%writefile BinaryExponentiation.java\n",
        "\n",
        "import java.math.BigInteger;\n",
        "\n",
        "public class BinaryExponentiation {\n",
        "    \n",
        "  public static long pow(long a, long n) {\n",
        "    long res = 1;\n",
        "    while(n > 0) {\n",
        "      if((n & 1) == 1) res = res * a;\n",
        "      a = a * a;\n",
        "      n = n >> 1;\n",
        "    }\n",
        "    return res;\n",
        "  }\n",
        "\n",
        "  /**\n",
        "    Can only support 64 bit long integer \n",
        "  */\n",
        "  public static long modPow(long a, long p, int MOD) {\n",
        "    long res = 1;\n",
        "    while(p > 0) {\n",
        "      if((p & 1) == 1) {  \n",
        "        res = modMul(res, a, MOD);\n",
        "      }\n",
        "      a = modMul(a, a, MOD);\n",
        "      p = p >> 1;\n",
        "    }\n",
        "    return res < 0 ? -res : res;\n",
        "  }\n",
        "\n",
        "  public static long modMul(long a, long b, int MOD) {\n",
        "    a = a % MOD;\n",
        "    b = b % MOD;\n",
        "    long res = a * b;\n",
        "    if(res < 0) res += MOD; \n",
        "    res = res % MOD;\n",
        "    return res;\n",
        "  }\n",
        "\n",
        "  public static long modPowLong(long a, long p, long MOD) {\n",
        "    BigInteger aBigInteger = new BigInteger(String.valueOf(a));\n",
        "    BigInteger pBigInteger = new BigInteger(String.valueOf(p));\n",
        "    BigInteger modBigInteger = new BigInteger(String.valueOf(MOD));\n",
        "    BigInteger resBigInteger = new BigInteger(\"1\");\n",
        "    int bitIndex = 0;\n",
        "    while(bitIndex < 256) {\n",
        "      if(pBigInteger.testBit(bitIndex)) {\n",
        "        resBigInteger = resBigInteger.multiply(aBigInteger).mod(modBigInteger);\n",
        "      }\n",
        "      aBigInteger = aBigInteger.multiply(aBigInteger).mod(modBigInteger);\n",
        "      bitIndex++;\n",
        "    }\n",
        "    return resBigInteger.mod(modBigInteger).longValue();\n",
        "  }\n",
        "\n",
        "  public static long modMulLong(long a, long b, long MOD) {\n",
        "    BigInteger aBigInteger = new BigInteger(String.valueOf(a));\n",
        "    BigInteger bBigInteger = new BigInteger(String.valueOf(b));\n",
        "    BigInteger modBigInteger = new BigInteger(String.valueOf(MOD));\n",
        "    BigInteger resBigInteger = aBigInteger.multiply(bBigInteger);\n",
        "    \n",
        "    return resBigInteger.mod(modBigInteger).longValue();\n",
        "  }\n",
        "\n",
        "  public static void main(String args[]) {\n",
        "    System.out.println(\"pow(2, 13): \"+pow(2, 13));\n",
        "    System.out.println(\"modPow(2, 63, (int)1e9 + 7): \"+modPow(2, 164, (int)1e9 + 7));\n",
        "    System.out.println(\"modPowLong(2, 64, 77145199750673): \"+modPowLong(2, 64, 77145199750673L));\n",
        "\n",
        "    System.out.println(\"modMul(2, 64, (int)1e9 + 7): \"+modMul(2, 644444444, (int)1e9 + 7));\n",
        "    System.out.println(\"modMulLong(2, 64, 77145199750673): \"+modMulLong(2, 6444444444444434444L, 77145199750673L));\n",
        "  }\n",
        "\n",
        "}"
      ],
      "metadata": {
        "colab": {
          "base_uri": "https://localhost:8080/"
        },
        "id": "iSDbibGWgjWd",
        "outputId": "26c090c5-16b0-4466-d994-9b72af56248c"
      },
      "execution_count": 5,
      "outputs": [
        {
          "output_type": "stream",
          "name": "stdout",
          "text": [
            "Writing BinaryExponentiation.java\n"
          ]
        }
      ]
    },
    {
      "cell_type": "code",
      "source": [
        "# Compiling BinaryExponentiation class\n",
        "run('javac BinaryExponentiation.java')\n",
        "\n",
        "# Running BinaryExponentiation class\n",
        "run('java BinaryExponentiation')"
      ],
      "metadata": {
        "colab": {
          "base_uri": "https://localhost:8080/"
        },
        "id": "ctOdcgkoiPlM",
        "outputId": "7274f805-68b9-4908-bac2-e6c9b717cad0"
      },
      "execution_count": 6,
      "outputs": [
        {
          "output_type": "stream",
          "name": "stdout",
          "text": [
            ">> javac BinaryExponentiation.java\n",
            ">> java BinaryExponentiation\n",
            "pow(2, 13): 8192\n",
            "modPow(2, 63, (int)1e9 + 7): 422922539\n",
            "modPowLong(2, 64, 77145199750673): 15344927875875\n",
            "modMul(2, 64, (int)1e9 + 7): 288888881\n",
            "modMulLong(2, 64, 77145199750673): 8930944678759\n"
          ]
        }
      ]
    },
    {
      "cell_type": "markdown",
      "source": [
        "\\\n",
        "\n",
        "\n",
        "\\\n",
        "\n",
        "# Fibonacci Sequence\n",
        "\n",
        "Fibonacci number is sequence which follows rule $f(n) = f(n - 1) + f(n - 2)$\n",
        "where f(n) is $n^{th}$ Fibonacci number.\n",
        "\n",
        "e.g.\n",
        "0, 1, 1, 2, 3, 5, 8, 13, 21..."
      ],
      "metadata": {
        "id": "Blw8TzunI2iz"
      }
    },
    {
      "cell_type": "markdown",
      "source": [
        "### How to calculate $n^{th}$ fibonacci number in $O(\\log n)$ time?\n",
        "\n",
        "\n",
        "\\\n",
        "As per property of fibonacci series, below two matrices are equal.\n",
        "\n",
        "\\\n",
        "\n",
        "$\\begin{bmatrix}\n",
        "f(n)\\\\\n",
        "f(n - 1)\n",
        "\\end{bmatrix} = \\begin{bmatrix}\n",
        "f(n - 1) + f(n - 2) \\\\\n",
        "f(n - 1)\\\\\n",
        "\\end{bmatrix}$\n",
        "\n",
        "\\\n",
        "Replacing right hand side with dot matrix multiplication\n",
        "\n",
        "\\\n",
        "\n",
        "$\\begin{bmatrix}\n",
        "f(n)\\\\\n",
        "f(n - 1)\n",
        "\\end{bmatrix} = \n",
        "\\begin{bmatrix}\n",
        "1 & 1 \\\\\n",
        "1 & 0\\\\\n",
        "\\end{bmatrix} .\n",
        "\\begin{bmatrix}\n",
        "f(n - 1) \\\\\n",
        "f(n - 2) \\\\\n",
        "\\end{bmatrix}$\n",
        "\n",
        "\n",
        "\\\n",
        "Replacing \n",
        "$\\begin{bmatrix}\n",
        "f(n - 1) \\\\\n",
        "f(n - 2) \\\\\n",
        "\\end{bmatrix}$ again with dot matrix multiplication\n",
        "\n",
        "\\\n",
        "\n",
        "$\\begin{bmatrix}\n",
        "f(n)\\\\\n",
        "f(n - 1)\n",
        "\\end{bmatrix} = \n",
        "\\begin{bmatrix}\n",
        "1 & 1 \\\\\n",
        "1 & 0\\\\\n",
        "\\end{bmatrix} .\n",
        "\\begin{bmatrix}\n",
        "1 & 1 \\\\\n",
        "1 & 0\\\\\n",
        "\\end{bmatrix} .\n",
        "\\begin{bmatrix}\n",
        "f(n - 2) \\\\\n",
        "f(n - 3) \\\\\n",
        "\\end{bmatrix}$\n",
        "\n",
        "\\\n",
        "\n",
        "If we continue above step k times we will get\n",
        "\n",
        "\\\n",
        "\n",
        "$\\begin{bmatrix}\n",
        "f(n)\\\\\n",
        "f(n - 1)\n",
        "\\end{bmatrix} = \n",
        "\\begin{bmatrix}\n",
        "1 & 1 \\\\\n",
        "1 & 0\\\\\n",
        "\\end{bmatrix}^{k} .\n",
        "\\begin{bmatrix}\n",
        "f(n - k) \\\\\n",
        "f(n - k - 1) \\\\\n",
        "\\end{bmatrix}$\n",
        "\n",
        "\\\n",
        "Let's replace $n - k = 1$ which gives us value of $k = n - 1$ \n",
        "\n",
        "\\\n",
        "$\\begin{bmatrix}\n",
        "f(n)\\\\\n",
        "f(n - 1)\n",
        "\\end{bmatrix} = \n",
        "\\begin{bmatrix}\n",
        "1 & 1 \\\\\n",
        "1 & 0\\\\\n",
        "\\end{bmatrix}^{n - 1} .\n",
        "\\begin{bmatrix}\n",
        "f(1) \\\\\n",
        "f(0) \\\\\n",
        "\\end{bmatrix}$\n",
        "\n",
        "\\\n",
        "\n",
        "We can use above equation to calculate $f(n)$. For calculating pow of matrix we use binary exponentiation discussed earlier, which gives us time complexity of $O(\\log n)$."
      ],
      "metadata": {
        "id": "ky_iMuKrLUIk"
      }
    },
    {
      "cell_type": "code",
      "source": [
        "%%writefile Fibonacci.java\n",
        "\n",
        "public class Fibonacci {\n",
        "  \n",
        "  public static long fibonacci(long n) {\n",
        "    if(n <= 1) return 0;\n",
        "\n",
        "    //Identity matrix\n",
        "    long[][] res = new long[][]{\n",
        "        {1L, 0L},\n",
        "        {0L, 1L}\n",
        "    };\n",
        "\n",
        "    //Matrix from proof above\n",
        "    long[][] a = new long[][] {\n",
        "        {1L, 1L},\n",
        "        {1L, 0L}\n",
        "    };\n",
        "\n",
        "    n--;\n",
        "    //Binary exponentiation\n",
        "    while(n > 0) {\n",
        "      if((n & 1) == 1) res = MatrixArithmetic.dot(res, a);\n",
        "      a = MatrixArithmetic.dot(a, a);\n",
        "      n = n >> 1;\n",
        "    }\n",
        "\n",
        "    return res[0][0];\n",
        "  }\n",
        "\n",
        "  public static void main(String args[]) {\n",
        "    System.out.println(Fibonacci.fibonacci(34));  \n",
        "  }\n",
        "\n",
        "}"
      ],
      "metadata": {
        "colab": {
          "base_uri": "https://localhost:8080/"
        },
        "id": "xyzO6ZzhI2Om",
        "outputId": "5dcd3253-0132-40b2-d58e-8117f4ebfe4e"
      },
      "execution_count": 7,
      "outputs": [
        {
          "output_type": "stream",
          "name": "stdout",
          "text": [
            "Writing Fibonacci.java\n"
          ]
        }
      ]
    },
    {
      "cell_type": "code",
      "source": [
        "# Compiling Fibonacci class\n",
        "run('javac Fibonacci.java')\n",
        "\n",
        "# Running LinearDiophantine class\n",
        "run('java Fibonacci')"
      ],
      "metadata": {
        "colab": {
          "base_uri": "https://localhost:8080/"
        },
        "id": "ljA9ni72xrX3",
        "outputId": "af91296a-9479-444f-ecb9-19712388653f"
      },
      "execution_count": 8,
      "outputs": [
        {
          "output_type": "stream",
          "name": "stdout",
          "text": [
            ">> javac Fibonacci.java\n",
            ">> java Fibonacci\n",
            "5702887\n"
          ]
        }
      ]
    },
    {
      "cell_type": "markdown",
      "source": [
        "\\\n",
        "\n",
        "\n",
        "\\\n",
        "### How to calculate sum of first $n$ Fibonacci numbers?\n",
        "\n",
        "\\\n",
        "\n",
        "Sum of first $n$ fibonacci number $=$ $(n + 2)^{th}$ fibonacci number $-1$\n",
        "\n",
        "\n",
        "\\\n",
        "\n",
        "**Proof**\n",
        "\n",
        "\n",
        "Let's assume the above statement is true.\n",
        "\n",
        "$\\therefore \\sum_{n=1}^{k} f(n) = f(k + 2) - 1$ \n",
        "where $f(n)$ is $n^{th}$ fibonacci number.\n",
        "\n",
        "\\\n",
        "\n",
        "Now let's try to prove that it is also true for $(k + 1)$.\n",
        "\n",
        "\\\n",
        "**To Prove**\n",
        "\n",
        "$\\sum_{n=1}^{(k + 1)} f(n) = f(k + 3) - 1$ \n",
        "\n",
        "\n",
        "\\\n",
        "\n",
        "We know by property of $\\sum_{}^{}$\n",
        "\n",
        "$\\sum_{n=1}^{(k + 1)} f(n) = f(k + 1) + \\sum_{n=1}^{k} f(n)$ \n",
        "\n",
        "\n",
        "\\\n",
        "Let's replace value of $\\sum_{n=1}^{k} f(n)$ on the RHS side with value that we assumed to be true.\n",
        "\n",
        "\\\n",
        "\n",
        "$\\sum_{n=1}^{(k + 1)} f(n) = f(k + 1) + f(k + 2) - 1$\n",
        "\n",
        "\\\n",
        "\n",
        "By Fibonacci sequence rule we have\n",
        "$f(k + 1) + f(k + 2) = f(k + 3)$ so let's replace that on RHS side.\n",
        "\n",
        "\n",
        "\\\n",
        "$\\sum_{n=1}^{(k + 1)} f(n) = f(k + 3) - 1$\n",
        "\n",
        "\\\n",
        "Hence Proved."
      ],
      "metadata": {
        "id": "aNV0-mNqyLtu"
      }
    },
    {
      "cell_type": "code",
      "source": [
        "%%writefile FibonacciSum.java\n",
        "\n",
        "public class FibonacciSum {\n",
        "  \n",
        "  public static long fibonacciSum(long n) {\n",
        "    return Fibonacci.fibonacci(n + 2) - 1; \n",
        "  }\n",
        "\n",
        "  public static void main(String args[]) {\n",
        "    System.out.println(\"Fibonacci Sum of first 10 number is \"+fibonacciSum(10));    \n",
        "  }\n",
        "\n",
        "}"
      ],
      "metadata": {
        "colab": {
          "base_uri": "https://localhost:8080/"
        },
        "id": "40wCkVL08rPh",
        "outputId": "562e210c-a3aa-49d1-da40-32d4059dd665"
      },
      "execution_count": 9,
      "outputs": [
        {
          "output_type": "stream",
          "name": "stdout",
          "text": [
            "Writing FibonacciSum.java\n"
          ]
        }
      ]
    },
    {
      "cell_type": "code",
      "source": [
        "# Compiling FibonacciSum class\n",
        "run('javac FibonacciSum.java')\n",
        "\n",
        "# Running LinearDiophantine class\n",
        "run('java FibonacciSum')"
      ],
      "metadata": {
        "colab": {
          "base_uri": "https://localhost:8080/"
        },
        "id": "Rm7D2dibBmSf",
        "outputId": "f7ca9866-73eb-42b9-b607-a6822a8ec375"
      },
      "execution_count": 10,
      "outputs": [
        {
          "output_type": "stream",
          "name": "stdout",
          "text": [
            ">> javac FibonacciSum.java\n",
            ">> java FibonacciSum\n",
            "Fibonacci Sum of first 10 number is 143\n"
          ]
        }
      ]
    },
    {
      "cell_type": "markdown",
      "source": [
        "\\\n",
        "\n",
        "\n",
        "\\\n",
        "\n",
        "# GCD - Greatest Common Divisor\n",
        "\n",
        "Largest number which is divisor of both the numbers.\n"
      ],
      "metadata": {
        "id": "JDhTjKfgqVik"
      }
    },
    {
      "cell_type": "markdown",
      "source": [
        "## Euclidean Algorithm\n",
        "\n",
        "It find GCD of two given numbers."
      ],
      "metadata": {
        "id": "ndqHP7y8W2z6"
      }
    },
    {
      "cell_type": "markdown",
      "source": [
        "### How it works?\n",
        "\n",
        "Algorithm works by subtracting smaller number from larger one until one of them becomes $0$.\n",
        "\n",
        "Let's say we have two numbers $a$ and $b$ and we need to find $gcd(a, b)$. \n",
        "\n",
        "While doing subtraction $a$ remains larger until $b$ is subtracted from $a$ at least $\\frac{a}{b}$ times. Therefore to speed up the algorithm subtraction is replaced by ${a} - \\frac{a}{b} * b = a \\bmod b$"
      ],
      "metadata": {
        "id": "oulz00y87GgN"
      }
    },
    {
      "cell_type": "code",
      "source": [
        "%%writefile Euclidean.java\n",
        "\n",
        "public class Euclidean { \n",
        "     \n",
        "  public static long gcd(long a, long b) {\n",
        "    while(b > 0) {\n",
        "      a = a % b;\n",
        "\n",
        "      //Swapping a & b\n",
        "      a = a ^ b;\n",
        "      b = a ^ b;\n",
        "      a = a ^ b;\n",
        "    }\n",
        "    return a;   \n",
        "  }\n",
        "\n",
        "  public static void main(String args[]) {\n",
        "    System.out.println(\"GCD of 55 and 80: \"+gcd(55, 80));\n",
        "  }\n",
        "  \n",
        "}"
      ],
      "metadata": {
        "id": "_amG_uyQQjOK",
        "colab": {
          "base_uri": "https://localhost:8080/"
        },
        "outputId": "000351ea-47f2-4aa2-a701-d5c7105a6808"
      },
      "execution_count": 11,
      "outputs": [
        {
          "output_type": "stream",
          "name": "stdout",
          "text": [
            "Writing Euclidean.java\n"
          ]
        }
      ]
    },
    {
      "cell_type": "code",
      "source": [
        "# Compiling Euclidean class\n",
        "run('javac Euclidean.java')\n",
        "\n",
        "# Running Euclidean class\n",
        "run('java Euclidean')\n"
      ],
      "metadata": {
        "id": "0Y4f_Dqw8hUg",
        "colab": {
          "base_uri": "https://localhost:8080/"
        },
        "outputId": "d16af7a6-4d60-47fc-c205-40062d6f2526"
      },
      "execution_count": 12,
      "outputs": [
        {
          "output_type": "stream",
          "name": "stdout",
          "text": [
            ">> javac Euclidean.java\n",
            ">> java Euclidean\n",
            "GCD of 55 and 80: 5\n"
          ]
        }
      ]
    },
    {
      "cell_type": "markdown",
      "source": [
        "\\\n",
        "\n",
        "\n",
        "\\\n",
        "\n",
        "## Extended Euclidean Algorithm\n",
        "\n",
        "Extended Euclidean algorithm find coefficients $x$ and $y$ such that GCD of $a$ and $b$ can be represented as\n",
        "$ax + by = gcd(a, b)$"
      ],
      "metadata": {
        "id": "oaajhbalX1Rm"
      }
    },
    {
      "cell_type": "markdown",
      "source": [
        "### How it works?\n",
        "Algorithm works the same way as euclidean algorithm but now we also calculate value of $x$ and $y$ in each step, and instead of doing a mod operation we do subtraction.\n",
        "\n",
        "\\\n",
        "Given $a = 77$ and $b = 30$, solving for equation $ax + by = gcd(a, b)$ gives us $x = -7$, $y = 18$ and $gcd = 1$\n",
        "\n",
        ">**Caution**\n",
        "\\\n",
        "Initial values\n",
        "\\\n",
        "$x1 = 1$ and $y1 = 0$\n",
        "\\\n",
        "$x2 = 0$ and $y2 = 1$\n",
        "\\\n",
        "Not sure exact reason why algorithm assigns alternating $1$ and $0$ values to $x1$, $x2$, $y1$ and $y2$.\n",
        "\\\n",
        "But I think at the end of the algorithm when we have $b = 0$, we get $a = gcd(a,b)$ and so we assign coefficient of $a$ which is $x1$ an initial value of $1$."
      ],
      "metadata": {
        "id": "3q9mcmBk5dg1"
      }
    },
    {
      "cell_type": "code",
      "source": [
        "%%writefile ExtendedEuclidean.java\n",
        "\n",
        "public class ExtendedEuclidean {  \n",
        "    \n",
        "  public static long[] xGcd(long a, long b) {\n",
        "    \n",
        "    long x1 = 1, y1 = 0;\n",
        "    long x2 = 0, y2 = 1;\n",
        "    \n",
        "    long quotient = 0;\n",
        "    while(b > 0) {\n",
        "      quotient = a / b;\n",
        "\n",
        "      a = a - quotient * b;\n",
        "      //Swapping a & b\n",
        "      a = a ^ b;\n",
        "      b = a ^ b;\n",
        "      a = a ^ b;\n",
        "\n",
        "      x1 = x1 - quotient * x2;\n",
        "      //Swapping x1 & x2\n",
        "      x1 = x1 ^ x2;\n",
        "      x2 = x1 ^ x2;\n",
        "      x1 = x1 ^ x2;\n",
        "\n",
        "      y1 = y1 - quotient * y2;\n",
        "      //Swapping y1 & y2\n",
        "      y1 = y1 ^ y2;\n",
        "      y2 = y1 ^ y2;\n",
        "      y1 = y1 ^ y2;\n",
        "    }\n",
        "    return new long[]{a, x1, y1};  \n",
        "\n",
        "  }\n",
        "\n",
        "  public static void main(String args[]) {\n",
        "    long a = 55, b = 80;\n",
        "    long[] res = xGcd(a, b);\n",
        "    System.out.println(\"For a: \"+a+\", b: \"+b+\" we get gcd: \"+res[0]+\n",
        "                       \" x: \"+res[1]+\" y: \"+res[2]);\n",
        "  }\n",
        "\n",
        "}"
      ],
      "metadata": {
        "id": "K4xC-50I845F",
        "colab": {
          "base_uri": "https://localhost:8080/"
        },
        "outputId": "bd99be37-805c-4d34-f8c1-e92a6c0fcd73"
      },
      "execution_count": 13,
      "outputs": [
        {
          "output_type": "stream",
          "name": "stdout",
          "text": [
            "Writing ExtendedEuclidean.java\n"
          ]
        }
      ]
    },
    {
      "cell_type": "code",
      "source": [
        "# Compiling ExtendedEuclidean class\n",
        "run('javac ExtendedEuclidean.java')\n",
        "\n",
        "# Running ExtendedEuclidean class\n",
        "run('java ExtendedEuclidean')"
      ],
      "metadata": {
        "id": "sPbnUmhZCuN-",
        "colab": {
          "base_uri": "https://localhost:8080/"
        },
        "outputId": "e7efe8a5-1c2d-445b-edea-f65e3aaa0667"
      },
      "execution_count": 14,
      "outputs": [
        {
          "output_type": "stream",
          "name": "stdout",
          "text": [
            ">> javac ExtendedEuclidean.java\n",
            ">> java ExtendedEuclidean\n",
            "For a: 55, b: 80 we get gcd: 5 x: 3 y: -2\n"
          ]
        }
      ]
    },
    {
      "cell_type": "markdown",
      "source": [
        "\\\n",
        "\n",
        "\n",
        "\\\n",
        "\n",
        "# LCM - Least Common Multiplier\n",
        "Lowest number which is multiple of both the numbers."
      ],
      "metadata": {
        "id": "okdI1W7BDRyC"
      }
    },
    {
      "cell_type": "markdown",
      "source": [
        "### How it is calculated?\n",
        "\n",
        "$lcm(a, b) = \\frac{a * b}{gcd(a, b)}$"
      ],
      "metadata": {
        "id": "0pPvX2DT5oYB"
      }
    },
    {
      "cell_type": "code",
      "source": [
        "%%writefile LCM.java\n",
        "\n",
        "public class LCM {\n",
        "  \n",
        "  public static long lcm(long a, long b) {\n",
        "    return a * b / Euclidean.gcd(a, b);\n",
        "  }\n",
        "\n",
        "  public static void main(String args[]) {\n",
        "    long a = 55, b = 80;\n",
        "    System.out.println(\"LCM of a: \"+a+\" b: \"+b+\" lcm: \"+ lcm(a, b));\n",
        "  }\n",
        "\n",
        "}"
      ],
      "metadata": {
        "id": "snZN_ZkO5oEC",
        "colab": {
          "base_uri": "https://localhost:8080/"
        },
        "outputId": "29a982c0-861c-4e18-d8c1-82f9864f1f01"
      },
      "execution_count": 15,
      "outputs": [
        {
          "output_type": "stream",
          "name": "stdout",
          "text": [
            "Writing LCM.java\n"
          ]
        }
      ]
    },
    {
      "cell_type": "code",
      "source": [
        "# Compiling LCM class\n",
        "run('javac LCM.java')\n",
        "\n",
        "# Running LCM class\n",
        "run('java LCM')"
      ],
      "metadata": {
        "colab": {
          "base_uri": "https://localhost:8080/"
        },
        "id": "iU694-ap6lvJ",
        "outputId": "a6be9119-8d35-4ba8-9734-05489b433abf"
      },
      "execution_count": 16,
      "outputs": [
        {
          "output_type": "stream",
          "name": "stdout",
          "text": [
            ">> javac LCM.java\n",
            ">> java LCM\n",
            "LCM of a: 55 b: 80 lcm: 880\n"
          ]
        }
      ]
    },
    {
      "cell_type": "markdown",
      "source": [
        "\\\n",
        "\n",
        "\n",
        "\\\n",
        "\n",
        "# Linear Diophantine\n",
        "It is an equation with two or more integer unknowns each of degree one.\n",
        "\n",
        "e.g.\n",
        "$ax1 + by2 = c$"
      ],
      "metadata": {
        "id": "V4gfY5zY9SN-"
      }
    },
    {
      "cell_type": "markdown",
      "source": [
        "### How to solve Linear Diophantine equation?\n",
        "\n",
        "Using Extended Euclidean algorithm we can solve the equation of the form $ax + by = gcd(a, b)$.\n",
        "\n",
        "\\\n",
        "Multiplying both side of the equation by $\\frac{c}{gcd(a, b)}$ we get\n",
        "\n",
        "$ ax * \\frac{c}{gcd(a, b)} + by * \\frac{c}{gcd(a, b)} = c$\n",
        "\n",
        "\\\n",
        "$\\therefore$ $x1 = \\frac{x * c}{gcd(a, b)}$ and $y1 = \\frac{y * c}{gcd(a, b)}$\n",
        "\n",
        "> **Caution**: \\\n",
        "Input a & b can be $-ve$\n",
        "\\\n",
        "If you are using int or long $\\frac{c}{gcd(a, b)}$  has to be a whole number.\n"
      ],
      "metadata": {
        "id": "IMQ_bbO1-G84"
      }
    },
    {
      "cell_type": "code",
      "source": [
        "%%writefile LinearDiophantine.java\n",
        "\n",
        "public class LinearDiophantine {\n",
        "  \n",
        "  public static long[] findAnySolution(long a, long b, long c) {\n",
        "    long[] res = ExtendedEuclidean.xGcd(Math.abs(a), Math.abs(b));\n",
        "\n",
        "    if(c % res[0] != 0) return null;\n",
        "    else {\n",
        "      long gcd = res[0];\n",
        "      long x = res[1];\n",
        "      long y = res[2];\n",
        "      \n",
        "      long x1 = (a < 0 ? -x : x) * c / gcd;\n",
        "      long y1 = (b < 0 ? -y : y) * c / gcd;\n",
        "\n",
        "      return new long[]{gcd, x1, y1}; \n",
        "    }\n",
        "  }\n",
        "\n",
        "  public static void main(String args[]) {\n",
        "    long[] res = findAnySolution(50, 80, 100);\n",
        "    System.out.println(\" x1: \"+res[1]+\" y1: \"+res[2]);\n",
        "  }\n",
        "\n",
        "}"
      ],
      "metadata": {
        "colab": {
          "base_uri": "https://localhost:8080/"
        },
        "id": "VH_LDk2N-Go1",
        "outputId": "f8a95aff-442c-4abf-9dc7-d83750759eda"
      },
      "execution_count": 17,
      "outputs": [
        {
          "output_type": "stream",
          "name": "stdout",
          "text": [
            "Writing LinearDiophantine.java\n"
          ]
        }
      ]
    },
    {
      "cell_type": "code",
      "source": [
        "# Compiling LinearDiophantine class\n",
        "run('javac LinearDiophantine.java')\n",
        "\n",
        "# Running LinearDiophantine class\n",
        "run('java LinearDiophantine')"
      ],
      "metadata": {
        "id": "nC-mxJ_8EWUK",
        "colab": {
          "base_uri": "https://localhost:8080/"
        },
        "outputId": "36620989-c1fc-44a0-8b32-a8ca5c447cb0"
      },
      "execution_count": 18,
      "outputs": [
        {
          "output_type": "stream",
          "name": "stdout",
          "text": [
            ">> javac LinearDiophantine.java\n",
            ">> java LinearDiophantine\n",
            " x1: -30 y1: 20\n"
          ]
        }
      ]
    },
    {
      "cell_type": "markdown",
      "source": [
        "\\\n",
        "\n",
        "\n",
        "\\\n",
        "# Prime Numbers\n",
        "A number is called a prime if it is only divisible by $1$ and itself.\n",
        "\n"
      ],
      "metadata": {
        "id": "0hs0HTRkDDld"
      }
    },
    {
      "cell_type": "markdown",
      "source": [
        "### Trial division to check if $P$ is prime number.\n",
        "\n",
        " We start by running loop from $2$ to $\\sqrt{P}$ and see if it divides number $P$. If it divides we know $n$ is not prime else $n$ prime number.\n",
        "\n",
        "Why we stop the looping at $\\sqrt{P}$?\n",
        " \\\n",
        "If number $n$ is not a prime number then at least one of it's factor should be $<= \\sqrt{P}$. \n",
        "\n",
        "> **Caution**\\\n",
        "For larger value of input $P$ algorithm can be very slow and should be rarely used in pratice."
      ],
      "metadata": {
        "id": "xgnDF14nEZ41"
      }
    },
    {
      "cell_type": "code",
      "source": [
        "%%writefile TrialDivision.java\n",
        "\n",
        "public class TrialDivision {\n",
        "  public static boolean isPrime(long p) {\n",
        "    long sqrtP = (long) Math.sqrt(p);\n",
        "    for(long i = 2; i <= sqrtP; i++) {\n",
        "      if(p % i == 0) return false;\n",
        "    }\n",
        "    return true;\n",
        "  }\n",
        "\n",
        "  public static void main(String args[]) {\n",
        "    System.out.println(\"isPrime 561 ? \"+isPrime(561));\n",
        "  }\n",
        "}"
      ],
      "metadata": {
        "colab": {
          "base_uri": "https://localhost:8080/"
        },
        "id": "AyMrf4sVG3-m",
        "outputId": "38dd9a6c-cf5d-40f4-c20f-54d4a05e145e"
      },
      "execution_count": 19,
      "outputs": [
        {
          "output_type": "stream",
          "name": "stdout",
          "text": [
            "Writing TrialDivision.java\n"
          ]
        }
      ]
    },
    {
      "cell_type": "code",
      "source": [
        "# Compiling TrialDivision class\n",
        "run('javac TrialDivision.java')\n",
        "\n",
        "# Running TrialDivision class\n",
        "run('java TrialDivision')"
      ],
      "metadata": {
        "colab": {
          "base_uri": "https://localhost:8080/"
        },
        "id": "7fTOAE3LHxVt",
        "outputId": "76c930ac-0c9e-45ea-c2e6-4236e799ba93"
      },
      "execution_count": 20,
      "outputs": [
        {
          "output_type": "stream",
          "name": "stdout",
          "text": [
            ">> javac TrialDivision.java\n",
            ">> java TrialDivision\n",
            "isPrime 561 ? false\n"
          ]
        }
      ]
    },
    {
      "cell_type": "markdown",
      "source": [
        "\\\n",
        "\n",
        "\n",
        "\\\n",
        "### Fermat's Little theorem to check if $P$ is prime number.\n",
        "\n",
        "For any natural number $a$, if we raise it's to power to prime number $P$ and subtract $a$ from it then output will be divisible by $P$\n",
        "\n",
        "\\\n",
        "Can we written as \\\n",
        "$a^{p} - a \\equiv 0 \\mod p$\n",
        "\n",
        "Adding $a$ on both side \\\n",
        "$a^{p} \\equiv a \\mod p$\n",
        "\n",
        "Dividiving by $a$ on both side \\\n",
        "$a^{(p - 1)} \\equiv 1 \\mod p$\n",
        "\n",
        "\n",
        "\\\n",
        "\n",
        "Proof\n",
        "\n",
        "Let's say we have balls of $2$ different colors(X and O) and we want to place them in $3$ different positions we get $2^{3} = 8$ different patterns as below.\n",
        "\n",
        "\\\n",
        "\n",
        "Pattern with $0$ balls of color X\n",
        "\n",
        " ```\n",
        " O O O \n",
        "```\n",
        "\n",
        "\\\n",
        "Pattern with $1$ ball of color X\n",
        "\n",
        "```\n",
        "X O O \n",
        "O X O \n",
        "O O X  \n",
        "```\n",
        "Now If we rotate X to right 1 more position we will get same pattern `X O O` so we stop.\n",
        "\n",
        "\\\n",
        "Pattern with $2$ balls of color X \n",
        "\n",
        "```\n",
        "X X O \n",
        "O X X \n",
        "X O X\n",
        "```\n",
        "\n",
        "\\\n",
        "\n",
        "Pattern with $3$ balls of color X \n",
        "\n",
        "```\n",
        "X X X \n",
        "```\n",
        "\n",
        "\\\n",
        "\n",
        "If we remove patterns having all the balls of same colors `O O O` and `X X X` we get total $3$ patterns in each group. That means pattern in any group will repeat itself only after $3$ rotation, cause $3$ is prime number and only divisible by itself and $1$.\n",
        "\n",
        "\n",
        "\\\n",
        "\n",
        "Now let's see if fermat's little theorem holds true for non-prime number like $4$.\n",
        "\n",
        "\n",
        "\\\n",
        "Let's say we have balls of $2$ different colors(X and O) and we want to place them in $4$ different positions we get $2^{4} = 16$ different patterns as below.\n",
        "\n",
        "\n",
        "\\\n",
        "Pattern with $0$ balls of color X\n",
        "\n",
        " ```\n",
        " O O O O\n",
        "```\n",
        "\n",
        "\\\n",
        "Pattern with $1$ ball of color X\n",
        "\n",
        "```\n",
        "X O O O\n",
        "O X O O \n",
        "O O X O \n",
        "O O O X\n",
        "```\n",
        "Now If we rotate X to right 1 more position we will get same pattern `X O O O` so we stop.\n",
        "\n",
        "\\\n",
        "Pattern with $2$ balls of color X \n",
        "\n",
        "```\n",
        "X X O O\n",
        "O X X O \n",
        "O O X X \n",
        "X O O X \n",
        "\n",
        "X O X O \n",
        "O X O X\n",
        "```\n",
        "Notice how we can rotate `X` futher here in pattern `O X O X` as we will get same pattern `X O X O`. \n",
        "\\\n",
        "And it happen because $4$ which is not prime number can be reprented as repeated pattern of `X O` two times. In other words $4$ is divisible by $2$\n",
        "\n",
        "\n",
        "\\\n",
        "Let's continue \n",
        "\n",
        "\\\n",
        "Pattern with $3$ balls of color X \n",
        "\n",
        "```\n",
        "X X X O\n",
        "O X X X \n",
        "X O X X\n",
        "X X O X \n",
        "```\n",
        "\n",
        "\\\n",
        "\n",
        "Pattern with $4$ balls of color X \n",
        "\n",
        "```\n",
        "X X X X \n",
        "```\n",
        "\n",
        "\\\n",
        "Here even if we remove patterns having all the balls of same color`O O O O` and `X X X X`, total number of pattern left won't be divible by $4$\n",
        "\n",
        "\\\n",
        "Hence proved, Fermat's little throrem doesn't hold good for composite number and can be used to validate if $p$ is prime number.\n",
        "\n",
        "$a^{p} - a \\equiv 0 \\mod p$\n",
        "\n",
        "\n",
        "\\\n",
        "\n",
        "> **Caution** \\\n",
        "Fermat's little theorem is probabilistic and won't give you correct answer for some composite numbers called carmichael numbers. e.g. $511 = 7 * 73$ \\\n",
        "\n",
        "\n",
        "\\\n",
        "\n",
        "Let's prove that Fermat's little thorem holds true for $p = 511$ even though it is composite. \n",
        "\n",
        "\\\n",
        "To prove that we have to prove below equation holds true for any natural number $a$.\n",
        "\\\n",
        "$a^{511} - a \\equiv 0 \\mod 511$\n",
        "\n",
        "\\\n",
        "Let's pick up $a = 8$ here.\n",
        "\\\n",
        "$8^{511} - 8 \\equiv 0 \\mod 511$\n",
        "\n",
        "\n",
        "\\\n",
        "Adding $8$ on both side. \n",
        "\\\n",
        "$8^{511} \\equiv 8 \\mod 511$\n",
        "\n",
        "\\\n",
        "Dividing by $8$ on both side.\n",
        "\\\n",
        "$8^{510} \\equiv 1 \\mod 511$\n",
        "\n",
        "\n",
        "\\\n",
        "Now number $8^{510}$ won't fit into calculator but we humans are smarter than machines and we can still calculate it's value.\n",
        "\n",
        "\\\n",
        "Let's express $510$ as multiple of $3$, so given equation becomes.\n",
        "\\\n",
        "$8^{510} \\equiv 1 \\mod 511$\n",
        "\\\n",
        "$8^{3*170} \\equiv 1 \\mod 511$\n",
        "\\\n",
        "$8^{3^{170}} \\equiv 1 \\mod 511$\n",
        "\n",
        "\\\n",
        "But we know $8^{3} \\equiv 1 \\mod 511$ so we replace $8^{3}$ in the above equation.\n",
        "\\\n",
        "$1^{170} \\equiv 1 \\mod 511$\n",
        "\\\n",
        "$1 \\equiv 1 \\mod 511$\n",
        "\n",
        "\n",
        "\n",
        "\\\n",
        "Hence proved $8^{511} ≡ 8 \\mod 511$ is true and fermat's little theorem holds true for $511$ even thought it is composite\n",
        "\n",
        "\n",
        "\\\n",
        "\n",
        "But number of such numbers are very less, we have only $646$ carmichael number within the range of $10^{9}$ Fermat's little theorem can be used in practice."
      ],
      "metadata": {
        "id": "nZdmP-beIXId"
      }
    },
    {
      "cell_type": "code",
      "source": [
        "%%writefile FermatsLittleTheorem.java\n",
        "\n",
        "import java.util.concurrent.ThreadLocalRandom;\n",
        "\n",
        "class FermatsLittleTheorem {\n",
        "  /**\n",
        "    Check if Fermat's little theorem formula holds true for random natural number a\n",
        "    a ^ (P - 1) ≡ 1 mod P\n",
        "  */\n",
        "  public static boolean isProbablyPrime(long P, int iterations) {\n",
        "    if(P % 2 == 0) return false;\n",
        "    if(P < 4) return P == 2 || P == 3;\n",
        "\n",
        "    ThreadLocalRandom threadLocalRandom = ThreadLocalRandom.current();\n",
        "\n",
        "    for(int i = 0; i < iterations; i++) {\n",
        "      /**\n",
        "        We don't want a = 0, & a = 1 because 0 ^ anything is 0 and 1 ^ anything is 1, \n",
        "        so we start from 2\n",
        "\n",
        "        Now Let's see why P(excluding)\n",
        "        If `a` = `P` and our res will always be `0` no matter if it is prime or not\n",
        "      */\n",
        "      long a = threadLocalRandom.nextLong(2, P);\n",
        "\n",
        "      //Check if fermat's formula holds true for natural number `a`\n",
        "      long res = BinaryExponentiation.modPowLong(a, P - 1, P);\n",
        "\n",
        "      //Not prime as fermat's formula doesn't hold true\n",
        "      System.out.println(\"Value of a: \"+a+\" value of \"+res);\n",
        "      if(res != 1L) return false;\n",
        "    }\n",
        "\n",
        "    /**\n",
        "      Probably a prime number as for randomly selected value of `a`, we couldn't find any\n",
        "      value for which fermat's little theorem doesn't hold true\n",
        "    */  \n",
        "    return true;\n",
        "  }\n",
        "\n",
        "  public static void main(String args[]) {\n",
        "    System.out.println(\"Is 561 probably prime? \"+isProbablyPrime(561, 562)); \n",
        "  }\n",
        "}"
      ],
      "metadata": {
        "colab": {
          "base_uri": "https://localhost:8080/"
        },
        "id": "72veNhvgux_Z",
        "outputId": "23e99030-d7d6-45e8-8e87-ccc076476217"
      },
      "execution_count": 21,
      "outputs": [
        {
          "output_type": "stream",
          "name": "stdout",
          "text": [
            "Writing FermatsLittleTheorem.java\n"
          ]
        }
      ]
    },
    {
      "cell_type": "code",
      "source": [
        "# Compiling FermatsLittleTheorem class\n",
        "run('javac FermatsLittleTheorem.java')\n",
        "\n",
        "# Running FermatsLittleTheorem class\n",
        "run('java FermatsLittleTheorem')"
      ],
      "metadata": {
        "colab": {
          "base_uri": "https://localhost:8080/"
        },
        "id": "AlB_7G940OSk",
        "outputId": "55f70858-6263-49f4-ff89-3507a9ef8f36"
      },
      "execution_count": 22,
      "outputs": [
        {
          "output_type": "stream",
          "name": "stdout",
          "text": [
            ">> javac FermatsLittleTheorem.java\n",
            ">> java FermatsLittleTheorem\n",
            "Value of a: 305 value of 1\n",
            "Value of a: 172 value of 1\n",
            "Value of a: 391 value of 34\n",
            "Is 561 probably prime? false\n"
          ]
        }
      ]
    },
    {
      "cell_type": "markdown",
      "source": [
        "\\\n",
        "\n",
        "\n",
        "\\\n",
        "\n",
        "### Miller-Rapin theorem to check if P is prime number\n",
        "\n",
        "It is an extension to Fermat's little theorem to check if the number is prime or not. \n",
        "\n",
        "However there are no such number as carmicheal number where all the non-trivial bases satisfy fermat's little theorem. If $p$ is composite, we have a probability of $\\ge 75$ that a random base $a$ will tell us that if it is composite number or not. \n",
        "\n",
        "\\\n",
        "By doing multiple iterations and choosing different random bases, we can tell with very high probability if the number is truly prime or if it is composite.\n",
        "\n",
        "\\\n",
        "Miller futher showed that for testing 64 bit integer it is enough to check the first 12 prime bases: 2, 3, 5, 7, 11, 13, 17, 19, 23, 29, 31, and 37.\n",
        "\n",
        "\n",
        "\\\n",
        "Miller-rapin formula derivation from fermat's little theorem explained below.\n",
        "\n",
        "\\\n",
        "As per Fermat's Little \n",
        "\\\n",
        "$a^{p - 1} \\equiv 1 \\mod p$\n",
        "\n",
        "\\\n",
        "Subtracting $1$ from both the side\n",
        "\\\n",
        "$a^{p - 1} - 1 \\equiv 0 \\mod p$\n",
        "\n",
        "\\\n",
        "For any odd number $p$, $p - 1$ will be even number, so let's factor out all the power of $2$ from number $a$.\n",
        "\\\n",
        "$a^{2^{r} * d} -  1 \\equiv 0 \\mod p$\n",
        "\n",
        "\n",
        "\\\n",
        "Applying the algebric formula $a^{2} - 1 = (a + 1)* (a - 1)$ above to equation we get\n",
        "\\\n",
        "$(a^{2^{r - 1} * d} + 1) * (a^{2^{r - 1} * d} - 1) \\equiv 0 \\mod p$\n",
        "\n",
        "\\\n",
        "Applying the formula again to factorise $(a^{2^{r - 1} * d} + 1)$ further\n",
        "\\\n",
        "$(a^{2^{r - 1} * d} + 1) * (a^{2^{r - 2} * d} - 1) * (a^{2^{r - 2} * d} - 1) \\equiv 0 \\mod p$\n",
        "\n",
        "\\\n",
        "If we continue the process $r$ times\n",
        "\\\n",
        "$(a^{2^{r - 1} * d} + 1) ..... (a^{2^{r - r} * d} + 1) * (a^{2^{r - r} * d} - 1) \\equiv 0 \\mod p$\n",
        "\n",
        "\\\n",
        "Now we know anything anything raise to $0$ is 1\n",
        "\\\n",
        "$(a^{2^{r - 1} * d} + 1) ... (a^{d} + 1) * (a^{d} - 1) \\equiv 0 \\mod p$\n",
        "\n",
        "\\\n",
        "For above equation to be true one of the factor on the LHS has to be multiple of $p$ for $\\mod p$ to be $0$ on the RHS.\n",
        "\n",
        "\n",
        "\\\n",
        "\n",
        "Which gives us \\\n",
        "$(a^{d} + 1) \\equiv 0 \\mod p$ \\\n",
        "$(a^{d} - 1) \\equiv 0 \\mod p$ \\\n",
        "$(a^{2^{r - 1} * d} + 1) \\equiv 0 \\mod p$\n",
        "\n",
        "\\\n",
        "So for any number $p$ to be a prime number it has to satisfy one of the above equation which are simplified further as below.\n",
        "\n",
        "\n",
        "\\\n",
        "$a^{d} \\equiv {\\pm} 1 \\mod p$ \n",
        "\\\n",
        "OR\n",
        "\\\n",
        "$a^{2^{s} * d} \\equiv -1 \\mod p$\n",
        "\\\n",
        "Where $1 \\le s \\le r - 1$ and $r$ is even factor of number $p$."
      ],
      "metadata": {
        "id": "bI1AIOl_7NH7"
      }
    },
    {
      "cell_type": "code",
      "source": [
        "%%writefile MillerRapin.java\n",
        "\n",
        "import java.util.concurrent.ThreadLocalRandom;\n",
        "\n",
        "public class MillerRapin {\n",
        "  \n",
        "  public static boolean isProbablePrime(long p, int iterations) {\n",
        "    if(p % 2 == 0) return false;\n",
        "    if(p <= 4) return p == 2 || p == 3;\n",
        "\n",
        "    //Splitting p - 1 into even factor 2 ^ r and remainning odd factor d\n",
        "    long d = p - 1;\n",
        "    long r = 0;\n",
        "    while((d & 1) == 0) { // last bit is 1 meaning we still have power of 2 in number d\n",
        "      d = d >> 1;\n",
        "      r++;\n",
        "    }\n",
        "\n",
        "    ThreadLocalRandom threadLocalRandom = ThreadLocalRandom.current();\n",
        "    //check if composite for random natural number a for iterations\n",
        "    for(int i = 0; i < iterations; i++) {\n",
        "      long a = threadLocalRandom.nextLong(2, p);\n",
        "      if(isComposite(a, r, d, p)) return false;\n",
        "    }\n",
        "\n",
        "    return true;\n",
        "  }\n",
        "\n",
        "  public static boolean isPrime(long p) {\n",
        "    if(p % 2 == 0) return false;\n",
        "    if(p <= 4) return p == 2 || p == 3;\n",
        "\n",
        "    //Splitting p - 1 into even factor 2 ^ r and remainning odd factor d\n",
        "    long d = p - 1;\n",
        "    long r = 0;\n",
        "    while((d & 1) == 0) { // last bit is 1 meaning we still have power of 2 in number d\n",
        "      d = d >> 1;\n",
        "      r++;\n",
        "    }\n",
        "\n",
        "    //check if composite for random natural number a for iterations\n",
        "    int[] first12PrimeNumbers = new int[]{2, 3, 5, 7, 11, 13, 17, 19, 23, 29, 31, 37};\n",
        "    for(int prime: first12PrimeNumbers) {\n",
        "      if(isComposite(prime, r, d, p)) return false;\n",
        "    }\n",
        "\n",
        "    return true;\n",
        "  }\n",
        "\n",
        "\n",
        "  //Validate equations derived from fermat's little theorem\n",
        "  private static boolean isComposite(long a, long r, long d, long p) {\n",
        "    //𝑎^𝑑 ≡ ±1 mod 𝑝\n",
        "    long res = BinaryExponentiation.modPowLong(a, d, p);\n",
        "    \n",
        "    //Reason why we check p - 1, instead of -1 because modPowLong always give you +ve number\n",
        "    if(res == 1 || res == p - 1) return false;\n",
        "\n",
        "    //𝑎 ^ ((2 ^ 𝑠) ∗ 𝑑) ≡ −1 mod 𝑝\n",
        "    for(long s = 1; s < r; s++) {\n",
        "      //Every time we doubling the value of res is same as calculating 2 ^ s everytime\n",
        "      res = BinaryExponentiation.modPowLong(res, 2, p);\n",
        "      if(res == p - 1) return false; \n",
        "    }\n",
        "\n",
        "    return true;\n",
        "  } \n",
        "\n",
        "  public static void main(String args[]) {\n",
        "    System.out.println(\"Is 5 a probable prime number? \"+isProbablePrime(5, 7));\n",
        "    System.out.println(\"Is 561 a prime number? \" +isPrime(561));\n",
        "  }\n",
        "\n",
        "}\n"
      ],
      "metadata": {
        "colab": {
          "base_uri": "https://localhost:8080/"
        },
        "id": "dMM8bSa7aU75",
        "outputId": "5df60de3-000e-41a9-fdab-f156085b8813"
      },
      "execution_count": 23,
      "outputs": [
        {
          "output_type": "stream",
          "name": "stdout",
          "text": [
            "Writing MillerRapin.java\n"
          ]
        }
      ]
    },
    {
      "cell_type": "code",
      "source": [
        "# Compiling MillerRapin class\n",
        "run('javac MillerRapin.java')\n",
        "\n",
        "# Running MillerRapin class\n",
        "run('java MillerRapin')"
      ],
      "metadata": {
        "colab": {
          "base_uri": "https://localhost:8080/"
        },
        "id": "lJBV-973lFQm",
        "outputId": "bb131cda-b97a-43de-c382-8a2ca9aa141b"
      },
      "execution_count": 24,
      "outputs": [
        {
          "output_type": "stream",
          "name": "stdout",
          "text": [
            ">> javac MillerRapin.java\n",
            ">> java MillerRapin\n",
            "Is 5 a probable prime number? true\n",
            "Is 561 a prime number? false\n"
          ]
        }
      ]
    },
    {
      "cell_type": "markdown",
      "source": [
        "\\\n",
        "\n",
        "\n",
        "\\\n",
        "\n",
        "## Sieve of Eratosthenes for finding all primes in range\n",
        "\n",
        "For finding all the prime numbers in the range from $2$ to $n$ we perform below steps\n",
        "\n",
        "1.  Mark all the number up to and including $n$ as prime, excluding $0$ and $1$\n",
        "2.   Loop over all the elements from $2$ to $n$\n",
        "3.   For each prime number \\\n",
        "    a. Add number to primes list \\\n",
        "    b. Mark all the multiples of prime number as non-prime up to $n$ using inner loop\n",
        "4.   Return prime list\n",
        "\n",
        "> **Caution** \\\n",
        "While looping in  inner loop increment should be in multiples of prime number found."
      ],
      "metadata": {
        "id": "Vps60JVG2CeG"
      }
    },
    {
      "cell_type": "code",
      "source": [
        "%%writefile SieveOfEratosthenes.java\n",
        "\n",
        "import java.util.*;\n",
        "\n",
        "public class SieveOfEratosthenes {\n",
        "  \n",
        "  public static List<Integer> listAllPrimes(int from, int n) {\n",
        "    if(from > n || n < 2) return new ArrayList<>(0);\n",
        "\n",
        "    boolean[] isPrime = new boolean[n + 1];\n",
        "    Arrays.fill(isPrime, true);\n",
        "    isPrime[0] = isPrime[1] = false;\n",
        "    \n",
        "    List<Integer> primes = new ArrayList<>();\n",
        "    for(int i = 2; i <= n; i++) {\n",
        "      if(isPrime[i]) {\n",
        "        if(i >= from) primes.add(i);\n",
        "        for(int j = i * i; j <= n; j += i) {\n",
        "          if(j % i == 0) isPrime[j] = false;\n",
        "        }\n",
        "      }\n",
        "    }\n",
        "    return primes;\n",
        "  }\n",
        "\n",
        "  public static void main(String args[]) {\n",
        "    List<Integer> first12Primes = listAllPrimes(0, 37);\n",
        "    System.out.println(\"First 12 primes: \"+first12Primes);\n",
        "  }\n",
        "}"
      ],
      "metadata": {
        "colab": {
          "base_uri": "https://localhost:8080/"
        },
        "id": "6RviNDVW48GR",
        "outputId": "cbb04058-a04a-44c2-f28a-38b0afd2f6fc"
      },
      "execution_count": 25,
      "outputs": [
        {
          "output_type": "stream",
          "name": "stdout",
          "text": [
            "Writing SieveOfEratosthenes.java\n"
          ]
        }
      ]
    },
    {
      "cell_type": "code",
      "source": [
        "# Compiling SieveOfEratosthenes class\n",
        "run('javac SieveOfEratosthenes.java')\n",
        "\n",
        "# Running SieveOfEratosthenes class\n",
        "run('java SieveOfEratosthenes')"
      ],
      "metadata": {
        "colab": {
          "base_uri": "https://localhost:8080/"
        },
        "id": "OpcDhVs47PyC",
        "outputId": "0709d442-4957-454f-8f0c-ad8598409091"
      },
      "execution_count": 26,
      "outputs": [
        {
          "output_type": "stream",
          "name": "stdout",
          "text": [
            ">> javac SieveOfEratosthenes.java\n",
            ">> java SieveOfEratosthenes\n",
            "First 12 primes: [2, 3, 5, 7, 11, 13, 17, 19, 23, 29, 31, 37]\n"
          ]
        }
      ]
    },
    {
      "cell_type": "markdown",
      "source": [
        "\\\n",
        "\n",
        "\n",
        "\\\n",
        "\n",
        "## Segment Sieve for finding all the prime number.\n",
        "\n",
        "It is memory optimized version for finding all the prime numbers in a range. Instead of marking all numbers from whole range at once, range is divided into segments.\n",
        "\n",
        "1.   Generate All prime numbers from $2$ to $\\sqrt(n)$ using Sieve of Eratosthenes.\n",
        "2.   Pick up a blockSize(Generally $10^{3} or 10^{4}$ gives you best result).\n",
        "3.   Mark multiple of prime numbers as false in each blockSize.\n",
        "4.   Return prime number list. \n",
        "\n",
        "\n"
      ],
      "metadata": {
        "id": "_3a5f_h9EOfk"
      }
    },
    {
      "cell_type": "code",
      "source": [
        "%%writefile SegmentSieve.java\n",
        "\n",
        "import java.util.*;\n",
        "\n",
        "public class SegmentSieve {\n",
        "  \n",
        "  public static List<Integer> listAllPrimes(int from, int n) {\n",
        "    int sqrtN = (int)Math.sqrt(n);\n",
        "    List<Integer> primesSqrtRange = SieveOfEratosthenes.listAllPrimes(0, sqrtN);\n",
        "    \n",
        "    List<Integer> primes = new ArrayList<>();\n",
        "\n",
        "    int blockSize = 10000;\n",
        "    boolean[] block = new boolean[blockSize];\n",
        "\n",
        "    for(int k = 0; k * blockSize <= n; k++) {    \n",
        "      int start = k * blockSize;\n",
        "      Arrays.fill(block, true);\n",
        "\n",
        "      for(int prime: primesSqrtRange) {\n",
        "        int prevBlockPrimeMultiple = (start + prime - 1) / prime;\n",
        "        int currentBlockPrimeMultiple = Math.max(prime, prevBlockPrimeMultiple) * prime;\n",
        "        int blockIndex = currentBlockPrimeMultiple - start;\n",
        "        for(; blockIndex < blockSize && blockIndex >= 0; blockIndex+=prime) {\n",
        "          block[blockIndex] = false;\n",
        "        }\n",
        "      }\n",
        "\n",
        "      if(k == 0) block[0] = block[1] = false;\n",
        "\n",
        "      for(int i = 0; i < blockSize && (i + start) <= n; i++) {\n",
        "        if(block[i] && (i + start) >= from) primes.add(i + start);\n",
        "      }\n",
        "    }\n",
        "    return primes;\n",
        "  }\n",
        "\n",
        "\n",
        "  public static void main(String args[]) {\n",
        "    List<Integer> primes = listAllPrimes(0, 40);\n",
        "    System.out.println(primes);\n",
        "  }\n",
        "\n",
        "}"
      ],
      "metadata": {
        "colab": {
          "base_uri": "https://localhost:8080/"
        },
        "id": "37bMbNn4F8GM",
        "outputId": "ddb176c6-e0a1-4c31-99da-96f83436f17c"
      },
      "execution_count": 27,
      "outputs": [
        {
          "output_type": "stream",
          "name": "stdout",
          "text": [
            "Writing SegmentSieve.java\n"
          ]
        }
      ]
    },
    {
      "cell_type": "code",
      "source": [
        "# Compiling SegmentSieve class\n",
        "run('javac SegmentSieve.java')\n",
        "\n",
        "# Running SegmentSieve class\n",
        "run('java SegmentSieve')"
      ],
      "metadata": {
        "colab": {
          "base_uri": "https://localhost:8080/"
        },
        "id": "4nOHGcVaI6iQ",
        "outputId": "7023b5f9-1109-4472-dbec-64bb9b2b6c1a"
      },
      "execution_count": 28,
      "outputs": [
        {
          "output_type": "stream",
          "name": "stdout",
          "text": [
            ">> javac SegmentSieve.java\n",
            ">> java SegmentSieve\n",
            "[2, 3, 5, 7, 11, 13, 17, 19, 23, 29, 31, 37]\n"
          ]
        }
      ]
    },
    {
      "cell_type": "markdown",
      "source": [
        "\\\n",
        "\n",
        "\n",
        "\\\n",
        "\n",
        "## Linear Sieve for finding least prime factor of all the numbers in a range\n",
        "\n",
        "It is very similar to Sieve of Eratosthenes except it runs in linear time. It marks every element as a non-prime only onces.\n",
        "\n",
        "1.   Mark all the number up to and including $n$ as prime excluding $0$ and $1$.\n",
        "2. Create an array to store least prime number for each number.\n",
        "3. Loop over all the elements from $2$ to $n$. \\\n",
        "a. Check if least prime number factor of current number is $0$, if so add number to primes list. \\\n",
        "b. Mark all multipler of number * (each prime number from the prime list $\\le$ least prime factor of current number) as non prime.\n",
        "4. Return the least prime number list.\n",
        "\n",
        "\n",
        "\n"
      ],
      "metadata": {
        "id": "tZX7bsv44gq6"
      }
    },
    {
      "cell_type": "code",
      "source": [
        "%%writefile LinearSieve.java\n",
        "\n",
        "import java.util.*;\n",
        "\n",
        "public class LinearSieve {\n",
        "  \n",
        "  public static int[] leastPrimeFactor(int n) {\n",
        "    int[] leastPrimeFactor = new int[n + 1];\n",
        "    List<Integer> primes = new ArrayList<>();\n",
        "\n",
        "    for(int i = 2; i <= n; i++) {\n",
        "      if(leastPrimeFactor[i] == 0) {\n",
        "        leastPrimeFactor[i] = i;\n",
        "        primes.add(i);\n",
        "      }\n",
        "\n",
        "      for(int j = 0; \n",
        "          j < primes.size() && primes.get(j) <= leastPrimeFactor[i] && \n",
        "          (i * primes.get(j)) >= 0 && i * primes.get(j) <= n; \n",
        "          j++) {\n",
        "        leastPrimeFactor[i * primes.get(j)] = primes.get(j); \n",
        "      }\n",
        "    }\n",
        "    return leastPrimeFactor;\n",
        "\n",
        "  }\n",
        "\n",
        "  public static void main(String args[]) {\n",
        "    int[] res = leastPrimeFactor(40);\n",
        "    System.out.println(Arrays.toString(res));\n",
        "  }\n",
        "}"
      ],
      "metadata": {
        "id": "NZx8Fg7m-hVk",
        "colab": {
          "base_uri": "https://localhost:8080/"
        },
        "outputId": "44f6e989-a5aa-4182-a44b-3f95ebd064b0"
      },
      "execution_count": 29,
      "outputs": [
        {
          "output_type": "stream",
          "name": "stdout",
          "text": [
            "Writing LinearSieve.java\n"
          ]
        }
      ]
    },
    {
      "cell_type": "code",
      "source": [
        "# Compiling LinearSieve class\n",
        "run('javac LinearSieve.java')\n",
        "\n",
        "# Running LinearSieve class\n",
        "run('java LinearSieve')"
      ],
      "metadata": {
        "id": "ZIpcTOTqAxu8",
        "colab": {
          "base_uri": "https://localhost:8080/"
        },
        "outputId": "fc857d98-fd40-437f-f8be-b28dc8a8300b"
      },
      "execution_count": 30,
      "outputs": [
        {
          "output_type": "stream",
          "name": "stdout",
          "text": [
            ">> javac LinearSieve.java\n",
            ">> java LinearSieve\n",
            "[0, 0, 2, 3, 2, 5, 2, 7, 2, 3, 2, 11, 2, 13, 2, 3, 2, 17, 2, 19, 2, 3, 2, 23, 2, 5, 2, 3, 2, 29, 2, 31, 2, 3, 2, 5, 2, 37, 2, 3, 2]\n"
          ]
        }
      ]
    },
    {
      "cell_type": "markdown",
      "source": [
        "\\\n",
        "\n",
        "\n",
        "\\\n",
        "# Factorization\n",
        "\n",
        "Factorization of composite number which is made of two prime number is unbreakable task if composite number is really big and it is secrete receipe of the RSA algorithm, which makes learning factorization really important."
      ],
      "metadata": {
        "id": "Gx_nV4basyBF"
      }
    },
    {
      "cell_type": "markdown",
      "source": [
        "## Trial division factorization.\n",
        "\n",
        "For any given number $P$, only one of the factor can be greater than $\\sqrt P$. \n",
        "\n",
        "So we looper over all the numbers from 2 to $\\sqrt P$ and see if it is factor of given number $P$.\n",
        "\n",
        "> **Caution** \\\n",
        "This method is very slow and rarely used in practice.\n",
        "\n",
        "As per the basics of arithemetic, every integer greater than $1$ can be represented uniquely as a product of prime numbers, so we can optimized below algorithm by replacing loop from $2$ to $\\sqrt n$ by only prime numbers.\n",
        "\n"
      ],
      "metadata": {
        "id": "8C0YD5s2izqt"
      }
    },
    {
      "cell_type": "code",
      "source": [
        "%%writefile TrialDivisionIntegerFactors.java\n",
        "\n",
        "import java.util.*;\n",
        "\n",
        "public class TrialDivisionIntegerFactors {\n",
        "\n",
        "  public static List<Long> getFactors(long p) {\n",
        "    long sqrt = (long) Math.sqrt(p);\n",
        "    List<Long> res = new ArrayList<>();\n",
        "\n",
        "    for(long d = 2; d <= sqrt; d++) {\n",
        "      while(p % d == 0) {\n",
        "        p = p / d;\n",
        "        res.add(d);    \n",
        "      }\n",
        "    }\n",
        "\n",
        "    if(p > 1) res.add(p);\n",
        "\n",
        "    return res;\n",
        "  } \n",
        "\n",
        "  public static void main(String args[]) {\n",
        "    List<Long> factors = getFactors(53L);\n",
        "    System.out.println(factors);\n",
        "  }\n",
        "}"
      ],
      "metadata": {
        "colab": {
          "base_uri": "https://localhost:8080/"
        },
        "id": "G3W4WYxekOni",
        "outputId": "9fecaff3-2e1f-4d1d-d33e-0ff719250d5f"
      },
      "execution_count": 31,
      "outputs": [
        {
          "output_type": "stream",
          "name": "stdout",
          "text": [
            "Writing TrialDivisionIntegerFactors.java\n"
          ]
        }
      ]
    },
    {
      "cell_type": "code",
      "source": [
        "# Compiling TrialDivisionIntegerFactors class\n",
        "run('javac TrialDivisionIntegerFactors.java')\n",
        "\n",
        "# Running TrialDivisionIntegerFactors class\n",
        "run('java TrialDivisionIntegerFactors')"
      ],
      "metadata": {
        "colab": {
          "base_uri": "https://localhost:8080/"
        },
        "id": "JTyT19kskPG1",
        "outputId": "07870cf8-352a-47ab-ed63-df2e26031111"
      },
      "execution_count": 32,
      "outputs": [
        {
          "output_type": "stream",
          "name": "stdout",
          "text": [
            ">> javac TrialDivisionIntegerFactors.java\n",
            ">> java TrialDivisionIntegerFactors\n",
            "[53]\n"
          ]
        }
      ]
    },
    {
      "cell_type": "markdown",
      "source": [
        "\\\n",
        "\n",
        "\n",
        "\\\n",
        "\n",
        "\n",
        "## Fermat's factorization\n",
        "\n",
        "Let's say we want to find out the factors of number $n$.\n",
        "\\\n",
        "$n = p * q$\n",
        "\n",
        "\\\n",
        "By algebric formula we know \n",
        "\n",
        "$p * q = (\\frac{p + q}{2})^2 - (\\frac{p - q}{2})^2$ \n",
        "\n",
        "\\\n",
        "Let's replace value of $p * q$ we get \\\n",
        "$n = (\\frac{p + q}{2})^2 - (\\frac{p - q}{2})^2$\n",
        "\n",
        "\\\n",
        "Which we can rewrite as \n",
        "\\\n",
        "$n = a^{2} - b^{2}$\n",
        "\n",
        "\\\n",
        "Once we calculate value of $a$ & $b$ in above equation we can calculate the factors of $n$ as below by using algebric formula.\n",
        "\\\n",
        "$n = (a + b) * (a - b)$"
      ],
      "metadata": {
        "id": "_kvOPFPjl9YG"
      }
    },
    {
      "cell_type": "code",
      "source": [
        "%%writefile FermatsFactorization.java\n",
        "\n",
        "import java.util.*;\n",
        "\n",
        "public class FermatsFactorization {\n",
        "  \n",
        "  public static long[] factorize(long n) {\n",
        "    long a = (long)Math.sqrt(n);\n",
        "    long bSquare = a * a - n;\n",
        "    long b = (long)Math.sqrt(bSquare);\n",
        "\n",
        "    while(bSquare != b * b) {\n",
        "      a++;\n",
        "      bSquare = a * a - n;\n",
        "      b = (long)Math.sqrt(bSquare);\n",
        "    }\n",
        "    return new long[]{(a - b), (a + b)};\n",
        "  }\n",
        "\n",
        "  public static void main(String args[]) {\n",
        "    System.out.println(\"Factors of 27: \"+Arrays.toString(factorize(27)));\n",
        "    System.out.println(\"Factors of 37: \"+Arrays.toString(factorize(37)));\n",
        "  }\n",
        "}\n"
      ],
      "metadata": {
        "colab": {
          "base_uri": "https://localhost:8080/"
        },
        "id": "LhtYoxqQLXSZ",
        "outputId": "2ea920dd-ad60-4316-8098-4a29bab24f88"
      },
      "execution_count": 33,
      "outputs": [
        {
          "output_type": "stream",
          "name": "stdout",
          "text": [
            "Writing FermatsFactorization.java\n"
          ]
        }
      ]
    },
    {
      "cell_type": "code",
      "source": [
        "# Compiling FermatsFactorization class\n",
        "run('javac FermatsFactorization.java')\n",
        "\n",
        "# Running FermatsFactorization class\n",
        "run('java FermatsFactorization')"
      ],
      "metadata": {
        "colab": {
          "base_uri": "https://localhost:8080/"
        },
        "id": "8QtNhQVSPNc8",
        "outputId": "ea58b303-652d-469d-bafb-d02db9d53662"
      },
      "execution_count": 34,
      "outputs": [
        {
          "output_type": "stream",
          "name": "stdout",
          "text": [
            ">> javac FermatsFactorization.java\n",
            ">> java FermatsFactorization\n",
            "Factors of 27: [3, 9]\n",
            "Factors of 37: [1, 37]\n"
          ]
        }
      ]
    },
    {
      "cell_type": "markdown",
      "source": [
        "\\\n",
        "\n",
        "\n",
        "\\\n",
        "\n",
        "## Pollard's p - 1 factorization\n",
        "\n",
        "Let's say we have to find out factor of number $n$.\n",
        "\\\n",
        "$n = p * q$\n",
        "\n",
        "\\\n",
        "Let's say we have $L$, such that $L$ is divisible by $(p - 1)$ and NOT divisible by $(q - 1)$.\n",
        "\n",
        "\\\n",
        "We can write two equations\n",
        "\\\n",
        "$L = i * (p - 1)$, let's call this as **equation 1**\n",
        "\\\n",
        "and\n",
        "\\\n",
        "$L = j * (q - 1) + k$, let's call this as **equation 2**\n",
        "\n",
        "\\\n",
        "Now let's calculate value of $a^{L}$ and replace the value of $L$ using equation 1.\n",
        "\\\n",
        "$a^{L} = a^{i * (p - 1)}$\n",
        "\\\n",
        "$a^{L} = a^{(p - 1)^{i}}$\n",
        "\n",
        "\\\n",
        "But we know from Fermat's Little theorem \\\n",
        "$a^{p - 1} \\equiv 1 \\mod p$\n",
        "\n",
        "\\\n",
        "Replacing the value $a^{(p - 1)}$ on the RHS we get\n",
        "\\\n",
        "$a^{L} \\equiv 1^{i} \\mod p$ \\\n",
        "$a^{L} \\equiv 1 \\mod p$ \\\n",
        "$a^{L} - 1 \\equiv 0 \\mod p$\n",
        "\n",
        "\\\n",
        "$\\therefore$ we can say that $a^{L} - 1$ is divisible by $p$ as well, and we can calculate $p$(one of the factor of $n$) as\n",
        "\\\n",
        "$p = gcd(a^{L} - 1, n)$.\n",
        "\n",
        "\\\n",
        "To calculate second factor $q$ we do \\\n",
        "$q = \\frac{n}{p}$\n",
        "\n",
        "\\\n",
        "Now in the begining we made an assumption for equation 2 that $L$ is NOT divisible by $(q - 1)$ because if we say $(q - 1)$ also divides $a^{L}$ then we have $n = a^{L}$ and we won't be able to use gcd function to calculate p.\n",
        "\n",
        "\n",
        "\\\n",
        "Now question is how to find $L$. We can try all the possible values for $L$ or replace $L$ with $B!$ which will covers a larger range of numbers very quickly. It will be useful specially when factors of $p$ are very large number.\n",
        "\n",
        "\\\n",
        "So formula becomes becomes\n",
        "\\\n",
        "$p = gcd(a^{B!} - 1, n)$.\n",
        "\n",
        "\\\n",
        "\n",
        "e.g. \n",
        "$\n",
        "n = 3441959603\n",
        "$\n",
        "\\\n",
        "Let's choose $a = 2$ and try all the possible value of B = 1, 2, 3, 4, .....\n",
        "\n",
        "$gcd(2^{1!}, 3441959603) = 1$\n",
        "\n",
        "$gcd(2^{2!}, 3441959603) = 1$\n",
        "\n",
        "$gcd(2^{3!}, 3441959603) = 1$\n",
        "\\\n",
        ".\n",
        "\\\n",
        ".\n",
        "\\\n",
        ".\n",
        "\\\n",
        "When B = 20, we get \\\n",
        "$gcd(2^{20!}, 3441959603) = 63361$\n",
        "\n",
        "\\\n",
        "$\\therefore$ we get factors of $n$ as \n",
        "\\\n",
        "$p = 63361$ and $q = \\frac{3441959603}{63361} = 54323$\n",
        "\n",
        "\\\n",
        "> **Caution:** \n",
        "\\\n",
        "Algorithm is probabilistic and we may never find a value of $B$. \n",
        "\n",
        "\n",
        "\n",
        "\\\n",
        "\n",
        "> **Optimization** \\\n",
        "In below implementation we replace $b!$ with $b$ and $a$ with $exponent$ by using math property $a^{b*c} = a^{b^{c}}$\n",
        "\n"
      ],
      "metadata": {
        "id": "auwais0E2knd"
      }
    },
    {
      "cell_type": "code",
      "source": [
        "%%writefile PollardsPMinusOne.java\n",
        "\n",
        "import java.util.concurrent.ThreadLocalRandom;\n",
        "import java.util.*;\n",
        "\n",
        "public class PollardsPMinusOne {\n",
        "  \n",
        "  public static long findFactors(long number) {\n",
        "    long b = 1, g = 0;\n",
        "    long exponent = 2;\n",
        "    while(b <= 100000) {\n",
        "      long a = 2;\n",
        "      exponent = BinaryExponentiation.modPowLong(exponent, b, number);\n",
        "      long gcd = Euclidean.gcd(exponent - 1, number);\n",
        "      if(gcd > 1 && gcd < number) return gcd;\n",
        "      b++;\n",
        "    }\n",
        "    return 1;\n",
        "  }\n",
        "\n",
        "  public static void main(String args[]) {\n",
        "    long number = 77145199750673L;\n",
        "    long p = findFactors(number);\n",
        "    long q = number / p;\n",
        "    System.out.println(\"Factors of number: \"+number+\" p: \"+p+\" q: \"+q);\n",
        "\n",
        "\n",
        "    number = 22198589711L;\n",
        "    p = findFactors(number);\n",
        "    q = number / p;\n",
        "    System.out.println(\"Factors of number1: \"+number+\" p: \"+p+\" q: \"+q); \n",
        "  }\n",
        "\n",
        "}"
      ],
      "metadata": {
        "colab": {
          "base_uri": "https://localhost:8080/"
        },
        "id": "eGN7jgFImOYT",
        "outputId": "f793f85f-5d76-452f-ba0e-b8e171900810"
      },
      "execution_count": 35,
      "outputs": [
        {
          "output_type": "stream",
          "name": "stdout",
          "text": [
            "Writing PollardsPMinusOne.java\n"
          ]
        }
      ]
    },
    {
      "cell_type": "code",
      "source": [
        "# Compiling PollardsPMinusOne class\n",
        "run('javac PollardsPMinusOne.java')\n",
        "\n",
        "# Running PollardsPMinusOne class\n",
        "run('java PollardsPMinusOne')"
      ],
      "metadata": {
        "colab": {
          "base_uri": "https://localhost:8080/"
        },
        "id": "u5LNICjQpFsy",
        "outputId": "71f09dc3-4264-4cb2-e9e4-bcc554a29bb7"
      },
      "execution_count": 36,
      "outputs": [
        {
          "output_type": "stream",
          "name": "stdout",
          "text": [
            ">> javac PollardsPMinusOne.java\n",
            ">> java PollardsPMinusOne\n",
            "Factors of number: 77145199750673 p: 328439 q: 234884407\n",
            "Factors of number1: 22198589711 p: 63361 q: 350351\n"
          ]
        }
      ]
    },
    {
      "cell_type": "markdown",
      "source": [
        "\\\n",
        "\n",
        "\n",
        "\\\n",
        "## Pollard's rho factorization\n",
        "\n",
        "This is an another factorization method from pollard.\n",
        "\n",
        "\\\n",
        "Let's say we want to find out the factors of number $n$.\n",
        "\\\n",
        "$n = p * q$\n",
        "\n",
        "\\\n",
        "This algorithm looks at a pseudo-random sequence.\n",
        "$x_{i} = \\{x_{0}, \\space f(x_{0}), \\space  f(f(x_{0}), ... \\}$ where $f$ is any polynomial function. \n",
        "\\\n",
        "e.g. $f(x) = x^{2} + c$\n",
        "\n",
        "\\\n",
        "Now if we do $x_{i} \\mod n$ all the values of polynomial functions will fall within the range $[0, n)$, that means for some value of $i = e$ this function will have same value when $i = s$.\n",
        "\n",
        "$x_{s} \\equiv x_{e} \\mod n$ \\\n",
        "\n",
        "\\\n",
        "Substracting $x_{e}$ from both side we get. \n",
        "\\\n",
        "$x_{s} - x_{e} \\equiv 0 \\mod n$\n",
        " \n",
        "\n",
        "\\\n",
        "For above equation to be true $n$ has to divide $x_{s} - x{e}$, i.e. both $x_{s} - x{e}$ and $n$ should have some common factors $p$. \n",
        "\\\n",
        "$gcd(x_{s} - x_{e}, n) = p$\n",
        "\n",
        "\\\n",
        "Hence we can use above algorithm to find one of the factor $p$ of $n$. \n",
        "\n",
        "\\\n",
        "For detection of cycle we use Floyd's cycle detection or Brent's cycle detection algorithm."
      ],
      "metadata": {
        "id": "gWUhEjFc22W7"
      }
    },
    {
      "cell_type": "code",
      "source": [
        "%%writefile PollardsRho.java\n",
        "\n",
        "import java.lang.Math;\n",
        "\n",
        "public class PollardsRho {\n",
        "  \n",
        "  //f(x) = x^2 + c\n",
        "  private static long f(long x, long c, long mod) {\n",
        "    long xSquare = BinaryExponentiation.modPowLong(x, 2, mod);\n",
        "    return (xSquare + (c % mod)) % mod;\n",
        "  }\n",
        "  \n",
        "  /**\n",
        "    Floyd Cycle Detection method\n",
        "  */\n",
        "  public static long findFactorsFloyd(long n, long initValue, long c) {\n",
        "    long gcd = 1, tortoise = initValue, hare = initValue;\n",
        "    while(gcd == 1 || gcd == n) {\n",
        "      //Tortoise pointer moving 1 step   \n",
        "      tortoise = f(tortoise, c, n);\n",
        "\n",
        "      //Hare pointer moving 2 steps\n",
        "      hare = f(hare, c, n);\n",
        "      hare = f(hare, c, n);\n",
        "      gcd = Euclidean.gcd(Math.abs(hare - tortoise), n);\n",
        "    }\n",
        "    return gcd;\n",
        "  }\n",
        "\n",
        "  /**\n",
        "    Brent Cycle Detection method\n",
        "  */\n",
        "  public static long findFactorsBrent(long n, long initValue, long c) {\n",
        "    long power = 1, lam = 1;\n",
        "    long tortoise = initValue;\n",
        "    long hare = initValue;\n",
        "    long gcd = 1;\n",
        "    while(gcd == 1 || gcd == n) {\n",
        "      //Tortoise will teleport to power of 2\n",
        "      if(power == lam) {\n",
        "        tortoise = hare;\n",
        "        power = power * 2;\n",
        "        lam = 0;\n",
        "      }\n",
        "      hare = f(hare, c, n);\n",
        "      gcd = Euclidean.gcd(Math.abs(hare - tortoise), n);\n",
        "      lam++;\n",
        "    }\n",
        "    return gcd;\n",
        "  }\n",
        "\n",
        "  public static void main(String args[]) {\n",
        "    System.out.println(\"Using Floyd's Cycle\");\n",
        "\n",
        "    long time = System.currentTimeMillis();\n",
        "\n",
        "    long number = 77145199750673L;\n",
        "    long p = findFactorsFloyd(number, 1, 1);\n",
        "    long q = number / p;\n",
        "    System.out.println(\"Factors of number: \"+number+\" p: \"+p+\" q: \"+q);\n",
        "\n",
        "    number = 22198589711L;\n",
        "    p = findFactorsFloyd(number, 1, 1);\n",
        "    q = number / p;\n",
        "    System.out.println(\"Factors of number: \"+number+\" p: \"+p+\" q: \"+q); \n",
        "\n",
        "    number = 2206637L;\n",
        "    p = findFactorsFloyd(number, 1, 1);\n",
        "    q = number / p;\n",
        "    System.out.println(\"Factors of number: \"+number+\" p: \"+p+\" q: \"+q); \n",
        "\n",
        "    number = 91;\n",
        "    p = findFactorsBrent(number, 1, 1);\n",
        "    q = number / p;\n",
        "    System.out.println(\"Factors of number: \"+number+\" p: \"+p+\" q: \"+q); \n",
        "\n",
        "    System.out.println(\"Time taken : \"+(System.currentTimeMillis() - time));\n",
        "\n",
        "    System.out.println(\"Using Brent's Cycle\");\n",
        "\n",
        "    time = System.currentTimeMillis();\n",
        "    number = 77145199750673L;\n",
        "    p = findFactorsBrent(number, 1, 1);\n",
        "    q = number / p;\n",
        "    System.out.println(\"Factors of number: \"+number+\" p: \"+p+\" q: \"+q); \n",
        "\n",
        "    number = 22198589711L;\n",
        "    p = findFactorsBrent(number, 1, 1);\n",
        "    q = number / p;\n",
        "    System.out.println(\"Factors of number: \"+number+\" p: \"+p+\" q: \"+q); \n",
        "\n",
        "    number = 2206637L;\n",
        "    p = findFactorsBrent(number, 1, 1);\n",
        "    q = number / p;\n",
        "    System.out.println(\"Factors of number: \"+number+\" p: \"+p+\" q: \"+q); \n",
        "\n",
        "    number = 91;\n",
        "    p = findFactorsBrent(number, 1, 1);\n",
        "    q = number / p;\n",
        "    System.out.println(\"Factors of number: \"+number+\" p: \"+p+\" q: \"+q); \n",
        "\n",
        "    System.out.println(\"Time taken : \"+(System.currentTimeMillis() - time));\n",
        "  }\n",
        "}"
      ],
      "metadata": {
        "colab": {
          "base_uri": "https://localhost:8080/"
        },
        "id": "TYc4lbhYv0Es",
        "outputId": "000ae745-7066-4d1d-8d45-d793bea255f7"
      },
      "execution_count": 37,
      "outputs": [
        {
          "output_type": "stream",
          "name": "stdout",
          "text": [
            "Writing PollardsRho.java\n"
          ]
        }
      ]
    },
    {
      "cell_type": "code",
      "source": [
        "# Compiling PollardsRho class\n",
        "run('javac PollardsRho.java')\n",
        "\n",
        "# Running PollardsRho class\n",
        "run('java PollardsRho')"
      ],
      "metadata": {
        "colab": {
          "base_uri": "https://localhost:8080/"
        },
        "id": "hVqxlSJH-Mil",
        "outputId": "2d6b61de-b662-481f-ce5d-ef9ffcbe4ec6"
      },
      "execution_count": 38,
      "outputs": [
        {
          "output_type": "stream",
          "name": "stdout",
          "text": [
            ">> javac PollardsRho.java\n",
            ">> java PollardsRho\n",
            "Using Floyd's Cycle\n",
            "Factors of number: 77145199750673 p: 328439 q: 234884407\n",
            "Factors of number: 22198589711 p: 63361 q: 350351\n",
            "Factors of number: 2206637 p: 317 q: 6961\n",
            "Factors of number: 91 p: 7 q: 13\n",
            "Time taken : 664\n",
            "Using Brent's Cycle\n",
            "Factors of number: 77145199750673 p: 328439 q: 234884407\n",
            "Factors of number: 22198589711 p: 63361 q: 350351\n",
            "Factors of number: 2206637 p: 317 q: 6961\n",
            "Factors of number: 91 p: 7 q: 13\n",
            "Time taken : 325\n"
          ]
        }
      ]
    },
    {
      "cell_type": "markdown",
      "source": [
        "\\\n",
        "\n",
        "\n",
        "\\\n",
        "# Co-Primes\n",
        "\n",
        "Two numbers are co-primes of each other if their $gcd$ is 1\n"
      ],
      "metadata": {
        "id": "tDxicEmagREO"
      }
    },
    {
      "cell_type": "markdown",
      "source": [
        "## Euler's totient/$\\phi$ function to find number of co-primes of $n$\n",
        "\n",
        "\\\n",
        "**What is $\\phi(n)$ function**\n",
        "\\\n",
        "It is number of elements which are co-primes of $n$ between $[1, n]$.\n",
        "\n",
        "\\\n",
        "**What is co-prime?** \\\n",
        "If number $s$ is co-prime of $n$ then we can say \n",
        "\\\n",
        "$gcd(n, s) = 1$\n",
        "\n",
        "\\\n",
        "As per Euler's $\\phi$ theorem if $p$ is a prime and $k > 0$ then \n",
        "\\\n",
        "$\\phi(p^{k}) = p^{k} - p^{k - 1}$ \n",
        "\n",
        "\\\n",
        "Taking $p^{k}$ out from RHS we get\n",
        "\\\n",
        "$\\phi(p^{k}) = p^{k} (1 - \\frac{1}{p})$\n",
        "\n",
        "\n",
        "\\\n",
        "**Proof:**\n",
        "\\\n",
        "To find the total number of co-primes to $p^{k}$, we have to find the total number which are NOT co-primes to $p^{k}$ we get\n",
        "\\\n",
        "$\\{1*p, \\space  2*p, \\space 3*p ....\\space p^{k - 1}*p\\}$\n",
        "\n",
        "\\\n",
        "There are total $p^{k - 1}$ number which divides $p^{k}$ in above set, so we substract that count from total $p^{k}$ elements we get\n",
        "\\\n",
        "$p^{k} - p^{k - 1}$ \n",
        "\n",
        "\\\n",
        "Hence proved \n",
        "$\\phi(p^{k}) = p^{k} - p^{k - 1}$ \n",
        "\n",
        "\\\n",
        "> **Caution:**\\\n",
        "Formula is true only if $p$ is prime number. If $p$ is composite number then there must be some $+ve$ integer $s$ which divides $p$ and total number of elements which divides $p^{k}$ will be greater than $p^{k - 1}$.\n",
        "\n",
        "\n",
        "\n"
      ],
      "metadata": {
        "id": "8-vaqjvlkNsj"
      }
    },
    {
      "cell_type": "code",
      "source": [
        "%%writefile EulerTotientPhi.java\n",
        "\n",
        "import java.util.Arrays;\n",
        "\n",
        "public class EulerTotientPhi {\n",
        "  \n",
        "  /**\n",
        "    phi function - returns total number of co-primes of n between [1, n]\n",
        "  */\n",
        "  public static long phi(long n) {\n",
        "    long res = n;\n",
        "    for(long i = 2; i <= n; i++) {\n",
        "      if(n % i == 0) {\n",
        "        while(n % i == 0) n = n / i;\n",
        "        res = res - (res / i);\n",
        "      }\n",
        "    }\n",
        "    return res;\n",
        "  }\n",
        "\n",
        "  /**\n",
        "      phi all function - returns phi function value for all the number between [1, n]\n",
        "      \n",
        "      Here we can run the loop for all the numbers between [1, n] \n",
        "      and call phi function but there is better way to do with sieve of eratosthenes.\n",
        "  */\n",
        "  public static int[] phiAll(int n) {\n",
        "    int[] phi = new int[n + 1];\n",
        "    for(int i = 1; i <= n; i++) phi[i] = i;\n",
        "    \n",
        "    for(int i = 2; i <= n; i++) {\n",
        "      if(phi[i] == i) { // Then it is prime number\n",
        "        for(int j = i; j <= n; j += i) {\n",
        "          phi[j] = phi[j] - (phi[j] / i);\n",
        "        }\n",
        "      }\n",
        "    }\n",
        "    return phi;\n",
        "  }\n",
        "\n",
        "  public static void main(String args[]) {\n",
        "    int n = 21;\n",
        "    System.out.println(\"Phi function value for n: \"+n+\" is: \"+phi(n));\n",
        "    System.out.println(\"Phi function value for all the number between [1, 21]: \"+\n",
        "                       Arrays.toString(phiAll(n)));\n",
        "  }\n",
        "\n",
        "}"
      ],
      "metadata": {
        "colab": {
          "base_uri": "https://localhost:8080/"
        },
        "id": "6JVNLcoAyu3i",
        "outputId": "a64bdc46-4935-49a1-dbcb-c10ab047f9e0"
      },
      "execution_count": 39,
      "outputs": [
        {
          "output_type": "stream",
          "name": "stdout",
          "text": [
            "Writing EulerTotientPhi.java\n"
          ]
        }
      ]
    },
    {
      "cell_type": "code",
      "source": [
        "# Compiling EulerTotientPhi class\n",
        "run('javac EulerTotientPhi.java')\n",
        "\n",
        "# Running EulerTotientPhi class\n",
        "run('java EulerTotientPhi')"
      ],
      "metadata": {
        "colab": {
          "base_uri": "https://localhost:8080/"
        },
        "id": "Im1xCFu23Cws",
        "outputId": "96f331ea-3ec1-4b06-f9bf-829fbce3d4ef"
      },
      "execution_count": 40,
      "outputs": [
        {
          "output_type": "stream",
          "name": "stdout",
          "text": [
            ">> javac EulerTotientPhi.java\n",
            ">> java EulerTotientPhi\n",
            "Phi function value for n: 21 is: 12\n",
            "Phi function value for all the number between [1, 21]: [0, 1, 1, 2, 2, 4, 2, 6, 4, 6, 4, 10, 4, 12, 6, 8, 8, 16, 6, 18, 8, 12]\n"
          ]
        }
      ]
    },
    {
      "cell_type": "markdown",
      "source": [
        "## Calculate $\\phi$ value using prime factorization\n",
        "\n",
        "\\\n",
        "One of the property of $\\phi$ function is that $\\phi$ function is multiplicative \n",
        "\\\n",
        "$\\phi(m, n) = \\phi(m) * \\phi(n)$ where $gcd(m, n) = 1$ \n",
        "\n",
        "\\\n",
        "Using above multiplicative property we can derive formula to calculate $\\phi$ value of given number using it's prime factorization.\n",
        "\n",
        "\\\n",
        "Let's say we have any number $p$, we can write down prime factorization of number $p$ as \n",
        "\\\n",
        "$p = p_{1}^{k_{1}} * p_{2}^{k_{2}} ... p_{r}^{k_{r}}$\n",
        "\n",
        "\\\n",
        "Using multiplicative property of $\\phi$ function we have, \\\n",
        "$\\phi(p) = \\phi(p_{1}^{k_{1}}) * \\phi(p_{2}^{k_{2}}) ... \\phi(p_{r}^{k_{r}})$,  let's call this as **equation 1**\n",
        "\n",
        "\\\n",
        "As per Euler's formula we know \n",
        "\\\n",
        "$\\phi(p^{k}) = p^{k} - p^{k - 1}$\n",
        "\n",
        "\\\n",
        "Replacing value from Euler's formula in equation 1 we get \n",
        "\\\n",
        "$\\phi(p) = (p_{1}^{k_{1}} - p_{1}^{k_{1} - 1}) * (p_{2}^{k_{2}} - p_{2}^{k_{2} - 1}) ... (p_{r}^{k_{r}} - p_{r}^{k_{r} - 1})$\n",
        "\n",
        "\n",
        "\\\n",
        "Simplifying on RHS we get \n",
        "\\\n",
        "$\\phi(p) = p_{1}^{k_{1}} * (1 - \\frac{1}{p_{1}}) * p_{2}^{k_{2}} * (1 - \\frac{1}{p_{2}}) ... p_{r}^{k_{1}} * (1 - \\frac{1}{p_{r}})$\n",
        "\n",
        "\\\n",
        "$\\phi(p) = p_{1}^{k_{1}} *  p_{2}^{k_{2}} * p_{r}^{k_{1}}  * (1 - \\frac{1}{p_{1}}) * (1 - \\frac{1}{p_{2}}) ... * (1 - \\frac{1}{p_{r}})$\n",
        "\n",
        "\\\n",
        "Replacing prime factor with number $p$ we get \n",
        "\\\n",
        "$\\phi(p) = p  * (1 - \\frac{1}{p_{1}}) * (1 - \\frac{1}{p_{2}}) ... * (1 - \\frac{1}{p_{r}})$\n",
        "\n",
        "\\\n",
        "Formula is really useful when given number is really larger.\n",
        "\n",
        "\n",
        "\\\n",
        "We can use any prime factorization algorithm here like Fermat's Factorization or Pollard's $p - 1$ factorization and calculate the value of $\\phi$ using prime factorization.\n"
      ],
      "metadata": {
        "id": "XHnkv-FiC2K4"
      }
    },
    {
      "cell_type": "markdown",
      "source": [
        "\\\n",
        "\n",
        "\\\n",
        "\n",
        "# Modular Multiplicative Inverse\n",
        "\n",
        "A Modular Multiplicative Inverse of an integer is $a$ is an integer $x$ such that $a.x$ is congruent to $1$ modular some modulus $m$.\n",
        "\\\n",
        "\n",
        "$a . x \\equiv 1 \\mod m$, Where $x$ is denoted as $a^{-1}$\n"
      ],
      "metadata": {
        "id": "zbx0T-ySKJz2"
      }
    },
    {
      "cell_type": "markdown",
      "source": [
        "## Extended Euclidean algorithm for finding modular multiplicative inverse\n",
        "\n",
        "\n",
        "\\\n",
        "As per extended euclidean algorithm we can solve below equation for the values of $x$ and $y$\n",
        "\\\n",
        "$a * x + m * y = gcd(a, m)$\n",
        "\n",
        "\\\n",
        "Let's say we have $gcd(a, m) = 1$ then we have \n",
        "\\\n",
        "$a * x + m * y = 1$ \n",
        "\n",
        ">**Note:**\\\n",
        "$gcd(a, m) = 1$ is a mandatory condition for modular multiplicative inverse to exists.\n",
        "\n",
        "\\\n",
        "Doing $\\mod m$ on both the side of the equation, $m * y$ becomes $0$ as mod of any number with itselft will be $0$\n",
        "\\\n",
        "$a* x \\equiv 1 \\mod m$\n",
        "\n",
        "\\\n",
        "And we have value of $x$ which is nothing but $a^{-1}$\n",
        "\n",
        "\n",
        "\n"
      ],
      "metadata": {
        "id": "D5qeLlCynKJ8"
      }
    },
    {
      "cell_type": "code",
      "source": [
        "%%writefile ModularMultiplicativeInverseExtendedEuclidean.java\n",
        "\n",
        "import java.util.Arrays;\n",
        "\n",
        "public class ModularMultiplicativeInverseExtendedEuclidean {\n",
        "  \n",
        "  public static long findModularMultiplicativeInverse(long a, long m) throws Exception {\n",
        "    long[] res = ExtendedEuclidean.xGcd(a, m);\n",
        "    if(res[0] != 1) // gcd = 1\n",
        "      throw new Exception(\"does not exists\");\n",
        "    else\n",
        "      return res[1];\n",
        "  }\n",
        "\n",
        "  public static void main(String args[]) throws Exception {\n",
        "    long a = 30, m = 11;\n",
        "    System.out.println(\"Modular multiplicative inverse for a:\"+a+\" m: \"+m\n",
        "                       +\" is: \"+findModularMultiplicativeInverse(a, m));\n",
        "  }\n",
        "}"
      ],
      "metadata": {
        "colab": {
          "base_uri": "https://localhost:8080/"
        },
        "id": "_LxYqc9NpsDk",
        "outputId": "9d6dc0bf-52ae-45f6-aaac-ac07870a8dde"
      },
      "execution_count": 68,
      "outputs": [
        {
          "output_type": "stream",
          "name": "stdout",
          "text": [
            "Overwriting ModularMultiplicativeInverseExtendedEuclidean.java\n"
          ]
        }
      ]
    },
    {
      "cell_type": "code",
      "source": [
        "# Compiling ModularMultiplicativeInverseExtendedEuclidean class\n",
        "run('javac ModularMultiplicativeInverseExtendedEuclidean.java')\n",
        "\n",
        "# Running ModularMultiplicativeInverseExtendedEuclidean class\n",
        "run('java ModularMultiplicativeInverseExtendedEuclidean')"
      ],
      "metadata": {
        "colab": {
          "base_uri": "https://localhost:8080/"
        },
        "id": "rL2rFf-rr3nr",
        "outputId": "0ba57e36-bc77-4b3d-8f29-7d2831b4d8c6"
      },
      "execution_count": 69,
      "outputs": [
        {
          "output_type": "stream",
          "name": "stdout",
          "text": [
            ">> javac ModularMultiplicativeInverseExtendedEuclidean.java\n",
            ">> java ModularMultiplicativeInverseExtendedEuclidean\n",
            "Modular multiplicative inverse for a:30 m: 11 is: -4\n"
          ]
        }
      ]
    },
    {
      "cell_type": "markdown",
      "source": [
        "\\\n",
        "\n",
        "\\\n",
        "\n",
        "## Formula for finding Modular Inverse of number from $[1, n] \\mod m$\n",
        "\n",
        "\\\n",
        "**Formula**\n",
        "\\\n",
        "$a^{-1} \\equiv - [\\frac{m}{a}] * (m \\mod a)^{-1} \\mod m$, where $1 \\le a \\le n$\n",
        "\n",
        "\\\n",
        "**Proof:**\n",
        "\\\n",
        "We can write mod operation as \n",
        "\\\n",
        "$m \\mod a = m - [\\frac{m}{a}]  a$, where $[\\frac{m}{a}]$ is integer division.\n",
        "\n",
        "\\\n",
        "Taking $\\mod m$ on both the sides we get\n",
        "\\\n",
        "$m \\mod a \\equiv m - [\\frac{m}{a}]  a \\mod m$\n",
        "\n",
        "\n",
        "\\\n",
        "Multiplying by $a^{-1}$ on both side we get\n",
        "\\\n",
        "$a^{-1} * (m \\mod a) \\equiv m - [\\frac{m}{a}] a * a^{-1} \\mod m$\n",
        "\\\n",
        "$a^{-1} * (m \\mod a) \\equiv m - [\\frac{m}{a}] \\mod m$\n",
        "\n",
        "\n",
        "\\\n",
        "Multiplying by $(m \\mod a)^{-1}$ on both side we get\n",
        "\\\n",
        "$a^{-1} * (m \\mod a) * (m \\mod a)^{-1} \\equiv m - [\\frac{m}{a}] * (m \\mod a)^{-1} \\mod m$\n",
        "\\\n",
        "$a^{-1} \\equiv m - [\\frac{m}{a}] * (m \\mod a)^{-1} \\mod m$\n",
        "\n",
        "\n",
        "\n",
        "\n",
        "\n",
        "\n",
        "\n",
        "\n",
        "\n",
        "\n",
        "\n"
      ],
      "metadata": {
        "id": "4rqEqWUstPXZ"
      }
    },
    {
      "cell_type": "code",
      "source": [
        "%%writefile ModularMultiplicativeInverseForRange.java\n",
        "\n",
        "import java.util.Arrays;\n",
        "\n",
        "public class ModularMultiplicativeInverseForRange {\n",
        "  \n",
        "  public static int[] findModularMultiplicativeInverse(int n, int m) {\n",
        "    int[] inverse = new int[n + 1];\n",
        "    inverse[1] = 1;\n",
        "    for(int i = 2; i <= n; i++) {\n",
        "      inverse[i] = (m -(m / i) * inverse[m % i]) % m;\n",
        "      if(inverse[i] < 0) inverse[i] += m;\n",
        "    }\n",
        "    return inverse;\n",
        "  }\n",
        "\n",
        "  public static void main(String args[]) {\n",
        "    int n = 10, m = 11; \n",
        "    int[] res = findModularMultiplicativeInverse(n, m);\n",
        "    System.out.println(\"Modular multiplicative Inverse of each number from [1, \"+n+\"]: \"+Arrays.toString(res));\n",
        "  }\n",
        "}\n"
      ],
      "metadata": {
        "colab": {
          "base_uri": "https://localhost:8080/"
        },
        "id": "E-dBfHe6VDS5",
        "outputId": "3292306f-df7e-458c-805b-ca166eb04af4"
      },
      "execution_count": 56,
      "outputs": [
        {
          "output_type": "stream",
          "name": "stdout",
          "text": [
            "Overwriting ModularMultiplicativeInverseForRange.java\n"
          ]
        }
      ]
    },
    {
      "cell_type": "code",
      "source": [
        "# Compiling ModularMultiplicativeInverseForRange class\n",
        "run('javac ModularMultiplicativeInverseForRange.java')\n",
        "\n",
        "# Running ModularMultiplicativeInverseForRange class\n",
        "run('java ModularMultiplicativeInverseForRange')"
      ],
      "metadata": {
        "colab": {
          "base_uri": "https://localhost:8080/"
        },
        "id": "C8lcMwFDYD3-",
        "outputId": "2d88e695-aa61-438a-e926-de8d82c6d446"
      },
      "execution_count": 57,
      "outputs": [
        {
          "output_type": "stream",
          "name": "stdout",
          "text": [
            ">> javac ModularMultiplicativeInverseForRange.java\n",
            ">> java ModularMultiplicativeInverseForRange\n",
            "Modular multiplicative Inverse of each number from [1, 10]: [0, 1, 6, 4, 3, 9, 2, 8, 7, 5, 10]\n"
          ]
        }
      ]
    },
    {
      "cell_type": "markdown",
      "source": [
        "\\\n",
        "\n",
        "\\\n",
        "## Formula for finding the modular inverse for array of numbers.\n",
        "\n",
        "\\\n",
        "**Formula:** \n",
        "\\\n",
        "$x_{i}^{-1} \\equiv $ prefixProduct($i - 1$) $\\space * \\space$ suffixProduct($i + 1$) $\\space * \\space (x_{1} * x_{2} .... x_{n})^{-1} \\mod m$, where $n$ is total number of elements \n",
        "\n",
        "\n",
        "\n",
        "\\\n",
        "**Proof:**\n",
        "\\\n",
        "Modulo inverse of any number to itself will be $1$ so we can write\n",
        "\\\n",
        "$(x_{1} \\space * \\space  x_{2} \\space * \\space  x_{3} \\space ... \\space x_{n}) * (x_{1} \\space * \\space  x_{2} \\space * \\space  x_{3} \\space ... \\space x_{n})^{-1} \\equiv 1 \\mod m$\n",
        "\n",
        "\\\n",
        "Dividing both side by $x_{i}$ we get below let's call this as equation $1$\n",
        "\\\n",
        "$\\frac{1}{x_{i}} * (x_{1} \\space * \\space  x_{2} \\space * \\space  x_{3} \\space ... \\space x_{n}) * (x_{1} \\space * \\space  x_{2} \\space * \\space  x_{3} \\space ... \\space x_{n})^{-1} \\equiv \\frac{1}{x_{i}} \\mod m$ \n",
        "\n",
        "\n",
        "\n",
        "\\\n",
        "Now we know \n",
        "\\\n",
        "$\\frac{1}{x_{i}} * (x_{1} \\space * \\space  x_{2} \\space * \\space  x_{3} \\space ... \\space x_{n}) =$ \n",
        "prefixProduct($i - 1$) $\\space * \\space$ suffixProduct($i + 1$)\n",
        "\n",
        "\\\n",
        "Replacing above value in equation $1$ we get\n",
        "\\\n",
        "prefixProduct($i - 1$) $\\space * \\space$ suffixProduct($i + 1$) $\\space * \\space (x_{1} * x_{2} * x_{3} .... x_{n})^{-1} \\equiv \\frac{1}{x_{i}} \\mod m$\n",
        "\n",
        "\\\n",
        "Hence proved."
      ],
      "metadata": {
        "id": "QmHKmdg5a7rW"
      }
    },
    {
      "cell_type": "code",
      "source": [
        "%%writefile ModularMultiplicativeInverseForArrayOfNumber.java\n",
        "\n",
        "import java.util.Arrays;\n",
        "\n",
        "public class ModularMultiplicativeInverseForArrayOfNumber {\n",
        "  \n",
        "  public static long[] findModularMultiplicativeInverseForAll(long[] numbers, int m) \n",
        "  throws Exception {\n",
        "    //Step 1: Generate PrefixProduct Array mod m\n",
        "    int n = numbers.length;\n",
        "    long[] prefixProductArr = new long[n];\n",
        "    long runningProduct = 1;\n",
        "    for(int i = 0; i < n; i++) {\n",
        "      //Reusing modMul function from BinaryExponentiation\n",
        "      runningProduct = BinaryExponentiation.modMul(runningProduct, numbers[i], m);\n",
        "      runningProduct = runningProduct < 0 ? (runningProduct + m) % m : runningProduct;\n",
        "      prefixProductArr[i] = runningProduct;\n",
        "    }\n",
        "\n",
        "    //Step 2: Find modular multiplicative inverse of product of all the numbers\n",
        "    long allProductModuloInverse = ModularMultiplicativeInverseExtendedEuclidean.\n",
        "      findModularMultiplicativeInverse(runningProduct, m);\n",
        "\n",
        "  \n",
        "    //Step 3: Find modular multiplicative inverse of each number from right to left\n",
        "    long suffixProduct = 1;\n",
        "    long[] res = new long[n];\n",
        "    for(int i = n - 1; i >= 0; i--) {\n",
        "      long prefixProduct = i - 1 >= 0 ? prefixProductArr[i - 1] : 1;\n",
        "\n",
        "      //Using formula we have suffixProduct * prefixProduct * allProductModuloInverse\n",
        "      res[i] = BinaryExponentiation.modMul(suffixProduct, prefixProduct, m);\n",
        "      res[i] = BinaryExponentiation.modMul(res[i], allProductModuloInverse, m);\n",
        "      res[i] = res[i] < 0 ? (res[i] + m) % m : res[i];\n",
        "      \n",
        "      suffixProduct = BinaryExponentiation.modMul(suffixProduct, numbers[i], m);\n",
        "    }\n",
        "    return res;\n",
        "  }\n",
        "\n",
        "  public static void main(String args[]) throws Exception {\n",
        "    long[] numbers = {1, 2, 4, 5};\n",
        "    long[] inverse = findModularMultiplicativeInverseForAll(numbers, 97);\n",
        "    System.out.println(\"Modulo multiplicative inverse of number: \"+Arrays.toString(inverse));\n",
        "\n",
        "    numbers = new long[] {14241, 2428969, 41414141, 2283552};\n",
        "    inverse = findModularMultiplicativeInverseForAll(numbers, 1000003777);\n",
        "    System.out.println(\"Modulo multiplicative inverse of number: \"+Arrays.toString(inverse));\n",
        "  }\n",
        "}\n"
      ],
      "metadata": {
        "colab": {
          "base_uri": "https://localhost:8080/"
        },
        "id": "i306TlTUtmAG",
        "outputId": "d98f6ffd-53ca-4540-8c7e-9bef38a693c4"
      },
      "execution_count": 118,
      "outputs": [
        {
          "output_type": "stream",
          "name": "stdout",
          "text": [
            "Overwriting ModularMultiplicativeInverseForArrayOfNumber.java\n"
          ]
        }
      ]
    },
    {
      "cell_type": "code",
      "source": [
        "# Compiling ModularMultiplicativeInverseForArrayOfNumber class\n",
        "run('javac ModularMultiplicativeInverseForArrayOfNumber.java')\n",
        "\n",
        "# Running ModularMultiplicativeInverseForArrayOfNumber class\n",
        "run('java ModularMultiplicativeInverseForArrayOfNumber')"
      ],
      "metadata": {
        "colab": {
          "base_uri": "https://localhost:8080/"
        },
        "id": "XRfGoXRL29R1",
        "outputId": "49289d75-8fbd-4cf3-9dce-789e72925f27"
      },
      "execution_count": 119,
      "outputs": [
        {
          "output_type": "stream",
          "name": "stdout",
          "text": [
            ">> javac ModularMultiplicativeInverseForArrayOfNumber.java\n",
            ">> java ModularMultiplicativeInverseForArrayOfNumber\n",
            "Modulo multiplicative inverse of number: [1, 49, 73, 39]\n",
            "Modulo multiplicative inverse of number: [978867541, 526321591, 6904262, 203220576]\n"
          ]
        }
      ]
    }
  ]
}